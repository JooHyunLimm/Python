{
  "nbformat": 4,
  "nbformat_minor": 0,
  "metadata": {
    "colab": {
      "name": "20220407.ipynb",
      "provenance": [],
      "authorship_tag": "ABX9TyN7XU0vuGzm+FBNvkRMeerJ",
      "include_colab_link": true
    },
    "kernelspec": {
      "name": "python3",
      "display_name": "Python 3"
    },
    "language_info": {
      "name": "python"
    }
  },
  "cells": [
    {
      "cell_type": "markdown",
      "metadata": {
        "id": "view-in-github",
        "colab_type": "text"
      },
      "source": [
        "<a href=\"https://colab.research.google.com/github/JooHyunLimm/Python/blob/main/20220407.ipynb\" target=\"_parent\"><img src=\"https://colab.research.google.com/assets/colab-badge.svg\" alt=\"Open In Colab\"/></a>"
      ]
    },
    {
      "cell_type": "code",
      "execution_count": null,
      "metadata": {
        "colab": {
          "base_uri": "https://localhost:8080/"
        },
        "id": "z8tquyxQEeEO",
        "outputId": "90b4f97a-fa6d-4cde-c9b8-4cc29d6f5f4a"
      },
      "outputs": [
        {
          "output_type": "stream",
          "name": "stdout",
          "text": [
            "나의 이름은 임주현 입니다\n",
            "나의 나이는 22살 입니다.\n",
            "내국인 입니다.\n",
            "남자입니다.\n"
          ]
        }
      ],
      "source": [
        "def say_myself(name,old,forigner=False,man=True):\n",
        "  print('나의 이름은 %s 입니다'%name)\n",
        "  print('나의 나이는 %d살 입니다.'%old)\n",
        "  if forigner:\n",
        "    print('외국인입니다.')\n",
        "  else:\n",
        "    print('내국인 입니다.')\n",
        "  if man:\n",
        "    print('남자입니다.')\n",
        "  else:\n",
        "    print('여자입니다.')\n",
        "say_myself('임주현',22,False,True)"
      ]
    },
    {
      "cell_type": "code",
      "source": [
        "def say_myself(name,old,sex):\n",
        "  print('나의 이름은 %s 입니다'%name)\n",
        "  print('나의 나이는 %d살 입니다.'%old)\n",
        "  if sex=='남자':\n",
        "    print('남자입니다.')\n",
        "  elif sex=='여자':\n",
        "    print('여자입니다.')\n",
        "  else:\n",
        "    print('성별을 다시 입력해 주세요')\n",
        "say_myself('임주현',22,'남자')"
      ],
      "metadata": {
        "colab": {
          "base_uri": "https://localhost:8080/"
        },
        "id": "EjqcGOzPFx00",
        "outputId": "b99fc3de-08df-4750-d369-21c614c64d4a"
      },
      "execution_count": null,
      "outputs": [
        {
          "output_type": "stream",
          "name": "stdout",
          "text": [
            "나의 이름은 임주현 입니다\n",
            "나의 나이는 22살 입니다.\n",
            "남자입니다.\n"
          ]
        }
      ]
    },
    {
      "cell_type": "code",
      "source": [
        "a=1\n",
        "def vartest(a):\n",
        "  a=a+1\n",
        "  return a\n",
        "vartest(a)\n",
        "print(a)"
      ],
      "metadata": {
        "colab": {
          "base_uri": "https://localhost:8080/"
        },
        "id": "lg7K7wplHGEf",
        "outputId": "2c8cc88c-a213-4efa-96f1-93a6fc7171ee"
      },
      "execution_count": null,
      "outputs": [
        {
          "output_type": "stream",
          "name": "stdout",
          "text": [
            "2\n"
          ]
        }
      ]
    },
    {
      "cell_type": "code",
      "source": [
        "a=7\n",
        "def vartest():\n",
        "  global a\n",
        "  a= a+1\n",
        "vartest()\n",
        "print(a)"
      ],
      "metadata": {
        "colab": {
          "base_uri": "https://localhost:8080/"
        },
        "id": "HQ0a_qPG7ILj",
        "outputId": "0cb4ffa0-64b9-4ecd-bc82-c5f33480b0e3"
      },
      "execution_count": null,
      "outputs": [
        {
          "output_type": "stream",
          "name": "stdout",
          "text": [
            "8\n"
          ]
        }
      ]
    },
    {
      "cell_type": "code",
      "source": [
        "def vartest(a):\n",
        "  a=a+1\n",
        "  return a\n",
        "a=vartest(a)\n",
        "print(a)"
      ],
      "metadata": {
        "colab": {
          "base_uri": "https://localhost:8080/"
        },
        "id": "FGifMOX58mz_",
        "outputId": "b99644b8-3254-4728-e846-cd516ecc31c3"
      },
      "execution_count": null,
      "outputs": [
        {
          "output_type": "stream",
          "name": "stdout",
          "text": [
            "9\n"
          ]
        }
      ]
    },
    {
      "cell_type": "code",
      "source": [
        "nubmer=input('숫자를 입력하세요.')"
      ],
      "metadata": {
        "colab": {
          "base_uri": "https://localhost:8080/"
        },
        "id": "o7Y8f_1Q9LKq",
        "outputId": "f3793429-6b91-4150-d9a7-ab0c393a200e"
      },
      "execution_count": null,
      "outputs": [
        {
          "name": "stdout",
          "output_type": "stream",
          "text": [
            "숫자를 입력하세요.\n"
          ]
        }
      ]
    },
    {
      "cell_type": "code",
      "source": [
        "print(\"life\"\"is\"\"too\",\"short\")"
      ],
      "metadata": {
        "colab": {
          "base_uri": "https://localhost:8080/"
        },
        "id": "zzHjHZaC98sv",
        "outputId": "4a29f571-3c48-48ce-88ec-d2f0a8075445"
      },
      "execution_count": null,
      "outputs": [
        {
          "output_type": "stream",
          "name": "stdout",
          "text": [
            "lifeistoo short\n"
          ]
        }
      ]
    },
    {
      "cell_type": "code",
      "source": [
        "for i in range(1,10):\n",
        "  for d in range(1,10):\n",
        "    print(i*d,end =\" \")\n",
        "  print('')\n"
      ],
      "metadata": {
        "colab": {
          "base_uri": "https://localhost:8080/"
        },
        "id": "8PZ2mi6k-Y69",
        "outputId": "e64278a2-1563-4cf0-df86-b2c0d72afcdc"
      },
      "execution_count": null,
      "outputs": [
        {
          "output_type": "stream",
          "name": "stdout",
          "text": [
            "1 2 3 4 5 6 7 8 9 \n",
            "2 4 6 8 10 12 14 16 18 \n",
            "3 6 9 12 15 18 21 24 27 \n",
            "4 8 12 16 20 24 28 32 36 \n",
            "5 10 15 20 25 30 35 40 45 \n",
            "6 12 18 24 30 36 42 48 54 \n",
            "7 14 21 28 35 42 49 56 63 \n",
            "8 16 24 32 40 48 56 64 72 \n",
            "9 18 27 36 45 54 63 72 81 \n"
          ]
        }
      ]
    },
    {
      "cell_type": "code",
      "source": [
        "f=open('새파일.txt','w')\n",
        "for i in range(1,11):\n",
        "    date=\"%d번째 줄입니다.\\n\"%i\n",
        "    f.write(date)\n",
        "f.close()"
      ],
      "metadata": {
        "id": "zhu3gQq1_zk5"
      },
      "execution_count": null,
      "outputs": []
    },
    {
      "cell_type": "code",
      "source": [
        "f=open('새파일.txt','r')\n",
        "while True:\n",
        "    line=f.readline()\n",
        "    if not line: break\n",
        "    print(line.strip(\"\\n\"),end= \" \")\n",
        "f.close()"
      ],
      "metadata": {
        "colab": {
          "base_uri": "https://localhost:8080/"
        },
        "id": "Pyn2lQseVt_B",
        "outputId": "ddb46b5d-b194-4de4-9f72-a33951b449c0"
      },
      "execution_count": null,
      "outputs": [
        {
          "output_type": "stream",
          "name": "stdout",
          "text": [
            "1번째 줄입니다. 2번째 줄입니다. 3번째 줄입니다. 4번째 줄입니다. 5번째 줄입니다. 6번째 줄입니다. 7번째 줄입니다. 8번째 줄입니다. 9번째 줄입니다. 10번째 줄입니다. "
          ]
        }
      ]
    },
    {
      "cell_type": "code",
      "source": [
        "f= open('새파일.txt','a')\n",
        "for i in range(11,21):\n",
        "    add=\"%d번째 줄입니다.\"% i\n",
        "    f.write(add)\n",
        "f.close()"
      ],
      "metadata": {
        "id": "kyxpn1jSV1IQ"
      },
      "execution_count": null,
      "outputs": []
    },
    {
      "cell_type": "code",
      "source": [
        "f=open(\"새파일.txt\",'r')\n",
        "while True:\n",
        "  read=f.read()\n",
        "  if not read: break\n",
        "  print(line.strip(\"\\n\"))\n",
        "f.close()"
      ],
      "metadata": {
        "colab": {
          "base_uri": "https://localhost:8080/"
        },
        "id": "eW7CqV7oxeOT",
        "outputId": "203cda13-aca6-42b6-e4f4-b3747bddd018"
      },
      "execution_count": null,
      "outputs": [
        {
          "output_type": "stream",
          "name": "stdout",
          "text": [
            "\n"
          ]
        }
      ]
    },
    {
      "cell_type": "code",
      "source": [
        "with open(\"새파일1.txt\",'w') as f:\n",
        "    f.write(\"life is too short\")"
      ],
      "metadata": {
        "id": "l7vxbeaN0kFr"
      },
      "execution_count": null,
      "outputs": []
    },
    {
      "cell_type": "code",
      "source": [
        "class Fourcal:\n",
        "  def __init__(self,first,second):\n",
        "    self.first=first\n",
        "    self.second=second\n",
        "  def seting(self,first,second):\n",
        "        self.first = first\n",
        "        self.second = second\n",
        "  def add(self):\n",
        "        result = self.first + self.second\n",
        "        return result\n",
        "\n",
        "b=Fourcal(3,4)\n",
        "print(b.add())"
      ],
      "metadata": {
        "colab": {
          "base_uri": "https://localhost:8080/"
        },
        "id": "BZRIY7Py0mXL",
        "outputId": "0107a23c-a5e7-41fc-af4e-dfb21abe2726"
      },
      "execution_count": null,
      "outputs": [
        {
          "output_type": "stream",
          "name": "stdout",
          "text": [
            "7\n"
          ]
        }
      ]
    },
    {
      "cell_type": "code",
      "source": [
        "class Fourcal:\n",
        "    def __init__(self,first,second):\n",
        "        self.first=first\n",
        "        self.second=second\n",
        "    def seting(self,first,second):\n",
        "        self.first = first\n",
        "        self.second = second\n",
        "    def add(self):\n",
        "        result = self.first + self.second\n",
        "        return result\n",
        "    def sub(self):\n",
        "        result = self.frist - self.second\n",
        "        return result\n",
        "    def mul(self):\n",
        "        result = self.first * self.second\n",
        "        return result\n",
        "    def div(self):\n",
        "        result = self.first / self.second\n",
        "        return result\n",
        "#위 내용 부모 funtion\n",
        "class Morefourcal(Fourcal):\n",
        "  def div(self):\n",
        "    if self.second==0:\n",
        "        return 0\n",
        "    else:\n",
        "        return self.first / self.second\n",
        "a = Morefourcal(7,0)\n",
        "print(a.div())\n",
        "#자녀 funtion"
      ],
      "metadata": {
        "colab": {
          "base_uri": "https://localhost:8080/"
        },
        "id": "GMGJd4s4FT5O",
        "outputId": "03cedf40-b68a-4a86-f90f-0a4490f3cc26"
      },
      "execution_count": null,
      "outputs": [
        {
          "output_type": "stream",
          "name": "stdout",
          "text": [
            "0\n"
          ]
        }
      ]
    },
    {
      "cell_type": "code",
      "source": [
        "try:\n",
        "  4 / 0\n",
        "except ZeroDivisionError as e:\n",
        "  print(e)\n",
        "print('hello')"
      ],
      "metadata": {
        "id": "KzGcaUQ_GHY1",
        "colab": {
          "base_uri": "https://localhost:8080/"
        },
        "outputId": "1d3b8129-1cda-48de-cd9f-8e491e47d07e"
      },
      "execution_count": 6,
      "outputs": [
        {
          "output_type": "stream",
          "name": "stdout",
          "text": [
            "division by zero\n",
            "hello\n"
          ]
        }
      ]
    },
    {
      "cell_type": "code",
      "source": [
        "try:\n",
        "  f = open(\"none\",\"r\")\n",
        "except Exception as e:\n",
        "    print(str(e))\n",
        "else:\n",
        "  date = f.redline()\n",
        "  print(date)\n",
        "  f.close()"
      ],
      "metadata": {
        "colab": {
          "base_uri": "https://localhost:8080/"
        },
        "id": "lwNA0Lz1v0Jo",
        "outputId": "582a061b-040a-448f-b1db-bd556605b6af"
      },
      "execution_count": 11,
      "outputs": [
        {
          "output_type": "stream",
          "name": "stdout",
          "text": [
            "[Errno 2] No such file or directory: 'none'\n"
          ]
        }
      ]
    },
    {
      "cell_type": "code",
      "source": [
        ""
      ],
      "metadata": {
        "id": "tu-WSLLR29vh"
      },
      "execution_count": null,
      "outputs": []
    }
  ]
}