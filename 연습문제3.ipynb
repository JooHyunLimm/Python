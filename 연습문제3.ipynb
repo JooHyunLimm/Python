{
  "nbformat": 4,
  "nbformat_minor": 0,
  "metadata": {
    "colab": {
      "name": "연습문제3.ipynb",
      "provenance": [],
      "authorship_tag": "ABX9TyOS0yE4U7wMkKTnC0W54s5z",
      "include_colab_link": true
    },
    "kernelspec": {
      "name": "python3",
      "display_name": "Python 3"
    },
    "language_info": {
      "name": "python"
    }
  },
  "cells": [
    {
      "cell_type": "markdown",
      "metadata": {
        "id": "view-in-github",
        "colab_type": "text"
      },
      "source": [
        "<a href=\"https://colab.research.google.com/github/JooHyunLimm/Python/blob/main/%EC%97%B0%EC%8A%B5%EB%AC%B8%EC%A0%9C3.ipynb\" target=\"_parent\"><img src=\"https://colab.research.google.com/assets/colab-badge.svg\" alt=\"Open In Colab\"/></a>"
      ]
    },
    {
      "cell_type": "code",
      "source": [
        "movie_list = ['닥터 스트레인지','스플릿','럭키']\n",
        "movie_list.append('배트맨')\n",
        "movie_list.append('슈퍼맨')\n",
        "del movie_list[3:]\n",
        "print(movie_list)"
      ],
      "metadata": {
        "colab": {
          "base_uri": "https://localhost:8080/"
        },
        "id": "BlfQsDwbWrO6",
        "outputId": "3bc5c4c8-7538-494f-d3e8-ad97d7476f1f"
      },
      "execution_count": 4,
      "outputs": [
        {
          "output_type": "stream",
          "name": "stdout",
          "text": [
            "['닥터 스트레인지', '스플릿', '럭키']\n"
          ]
        }
      ]
    },
    {
      "cell_type": "code",
      "source": [
        "ticker = 'btc_krw'\n",
        "a= ticker.upper()\n",
        "b= a.lower()\n",
        "print(b)\n",
        "capitalize = 'hello, i\\'m great'\n",
        "c = capitalize.capitalize()\n",
        "print(c)\n",
        "file_name = \"2022_보고서.xlsx\"\n",
        "d = file_name.endswith('xlsx')\n",
        "e = file_name.startswith('2022')\n",
        "print(d,e)\n",
        "print( ticker.split('_'))\n",
        "data='039490     '\n",
        "f = data.rstrip(' ')\n",
        "print(f, len(f))\n",
        "movie_list = ['닥터 스트레인지','스플릿','럭키']\n",
        "movie_list.append('배트맨')\n",
        "movie_list.append('슈퍼맨')\n",
        "del movie_list[3:]\n",
        "print(movie_list)\n",
        "lang1 = ['c','c++','java']\n",
        "lang2 = ['python','Go','c#']\n",
        "langs = lang1+lang2\n",
        "print(langs)\n",
        "nums = [1,2,3,4,5,6,7,8,9]\n",
        "g = max(nums)\n",
        "h = min(nums)\n",
        "i = sum(nums)\n",
        "j = len(nums)\n",
        "k = sum(nums)/len(nums)\n",
        "print(i,j,k)"
      ],
      "metadata": {
        "colab": {
          "base_uri": "https://localhost:8080/"
        },
        "id": "4zuaOTCEaC0f",
        "outputId": "a7193f3c-a744-47fc-fcdd-3a4ca86189ac"
      },
      "execution_count": 5,
      "outputs": [
        {
          "output_type": "stream",
          "name": "stdout",
          "text": [
            "btc_krw\n",
            "Hello, i'm great\n",
            "True True\n",
            "['btc', 'krw']\n",
            "039490 6\n",
            "['닥터 스트레인지', '스플릿', '럭키']\n",
            "['c', 'c++', 'java', 'python', 'Go', 'c#']\n",
            "45 9 5.0\n"
          ]
        }
      ]
    },
    {
      "cell_type": "code",
      "source": [
        "price = ['20220412','100','130','140','150','160','170']\n",
        "print(price[1:])\n",
        "nums = [1,2,3,4,5,6,7,8,9,10]\n",
        "print(nums[::2])\n",
        "print(nums[1::2])\n",
        "nums.reverse()\n",
        "print(nums[::-1])\n",
        "interest = ['삼전','LG','naver']\n",
        "print(interest[0],interest[2],sep= '')\n",
        "a= '/'.join(interest)\n",
        "print(a.split('/'))\n",
        "date = [2,5,3,7,3,4,6]\n",
        "date.sort()\n",
        "print(date)\n",
        "movie_tuple = ('닥터 스트레인지', '스플릿','럭키')\n",
        "t = ('a','b','c')\n",
        "print(type(movie_tuple))\n",
        "print(type(t))\n",
        "t =list(t)\n",
        "t[0] = 'A'\n",
        "t= tuple(t)\n",
        "print(t,type(t))\n",
        "temp = ('apple','banana','cake')\n",
        "a, b ,c = temp\n",
        "print(a)\n",
        "e = range(2,100,2)\n",
        "print(sum(tuple(e)))\n",
        "scores = (8.8, 8.9, 8.7, 9.2, 9.3, 9.7, 9.9, 9.5, 7.8, 9.4)\n",
        "z,y,*x= scores\n",
        "vaild_scores = x\n",
        "print(vaild_scores)\n",
        "temp = {'메로나':1000,\n",
        "        '폴라포':1200,\n",
        "        '빵빠레':1800}\n",
        "temp['죠스바']=1200\n",
        "temp['월드콘']=1500\n",
        "temp[\"메로나\"]= 1300\n",
        "temp.pop(\"메로나\")\n",
        "print(\"죠스바 가격:\",temp['죠스바'])\n",
        "print(temp.keys())\n",
        "inventory = {\"메로나\":[300,20],\n",
        "             \"비비빅\":[300,3], \n",
        "             \"죠스바\":[250,100]}\n",
        "print(  inventory['메로나'][0],inventory['메로나'][1],sep = '원', end = '개')\n",
        "inventory[\"월드콘\"] = [500,7]\n",
        "inventory1 = list(inventory.keys())\n",
        "inventory2 = list(inventory.values())\n",
        "print(inventory1,inventory2)\n",
        "icecream = {'탱크보이': 1200, \n",
        "            '폴라포': 1200, \n",
        "            '빵빠레' : 1800, \n",
        "            '월드콘' : 1500,\n",
        "            '매로나' : 1000}\n",
        "print(sum(icecream.values()))\n",
        "new_product = {'팥빙수' : 3700,\n",
        "                '아맛나' : 1000}\n",
        "icecream.update(new_product)\n",
        "print(icecream)\n",
        "print(dict(icecream, **new_product))\n",
        "keys = ('apple', 'pear', 'peach')\n",
        "vlas = (300,250,40)\n",
        "result = dict(zip(keys,vlas))\n",
        "print(result)\n",
        "date = ['09/05','09/06','09/07','09/08']\n",
        "close_price = [10000,11000,12000,13000]\n",
        "close_table = dict(zip(date,close_price))\n",
        "print(close_table)"
      ],
      "metadata": {
        "colab": {
          "base_uri": "https://localhost:8080/"
        },
        "id": "Qmlx6NokxbYM",
        "outputId": "f6627c68-72e4-43c8-d575-65520e357ebb"
      },
      "execution_count": 3,
      "outputs": [
        {
          "output_type": "stream",
          "name": "stdout",
          "text": [
            "['100', '130', '140', '150', '160', '170']\n",
            "[1, 3, 5, 7, 9]\n",
            "[2, 4, 6, 8, 10]\n",
            "[1, 2, 3, 4, 5, 6, 7, 8, 9, 10]\n",
            "삼전naver\n",
            "['삼전', 'LG', 'naver']\n",
            "[2, 3, 3, 4, 5, 6, 7]\n",
            "<class 'tuple'>\n",
            "<class 'tuple'>\n",
            "('A', 'b', 'c') <class 'tuple'>\n",
            "apple\n",
            "2450\n",
            "[8.7, 9.2, 9.3, 9.7, 9.9, 9.5, 7.8, 9.4]\n",
            "죠스바 가격: 1200\n",
            "dict_keys(['폴라포', '빵빠레', '죠스바', '월드콘'])\n",
            "300원20개['메로나', '비비빅', '죠스바', '월드콘'] [[300, 20], [300, 3], [250, 100], [500, 7]]\n",
            "6700\n",
            "{'탱크보이': 1200, '폴라포': 1200, '빵빠레': 1800, '월드콘': 1500, '매로나': 1000, '팥빙수': 3700, '아맛나': 1000}\n",
            "{'탱크보이': 1200, '폴라포': 1200, '빵빠레': 1800, '월드콘': 1500, '매로나': 1000, '팥빙수': 3700, '아맛나': 1000}\n",
            "{'apple': 300, 'pear': 250, 'peach': 40}\n",
            "{'09/05': 10000, '09/06': 11000, '09/07': 12000, '09/08': 13000}\n"
          ]
        }
      ]
    },
    {
      "cell_type": "code",
      "source": [
        "a= input()\n",
        "if int(a) % 2 == 0:\n",
        "    print(a, \"는 짝수\")\n",
        "else:\n",
        "    print(a, \"는 홀수\")"
      ],
      "metadata": {
        "colab": {
          "base_uri": "https://localhost:8080/"
        },
        "id": "DGjSa9OS0vvp",
        "outputId": "0a22d164-8abd-41b8-cf58-e7a6f8b73ee5"
      },
      "execution_count": 4,
      "outputs": [
        {
          "output_type": "stream",
          "name": "stdout",
          "text": [
            "3\n",
            "3 는 홀수\n"
          ]
        }
      ]
    },
    {
      "cell_type": "code",
      "source": [
        "b = input()\n",
        "if int(b) +20 < 255:\n",
        "    print(int(b)+20)\n",
        "else:\n",
        "    print(255)"
      ],
      "metadata": {
        "colab": {
          "base_uri": "https://localhost:8080/"
        },
        "id": "vvBGM7US0wWw",
        "outputId": "90d482ff-af54-4dbc-dcf7-153a4b54fb82"
      },
      "execution_count": 7,
      "outputs": [
        {
          "output_type": "stream",
          "name": "stdout",
          "text": [
            "236\n",
            "255\n"
          ]
        }
      ]
    },
    {
      "cell_type": "code",
      "source": [
        "a= input()\n",
        "if int(a) - 20 <= 0:\n",
        "    print(0)\n",
        "elif int(a) - 20 >=255:\n",
        "    print(255)\n",
        "else:\n",
        "    print(int(a)-20)"
      ],
      "metadata": {
        "colab": {
          "base_uri": "https://localhost:8080/"
        },
        "id": "-peBbRfr2_a5",
        "outputId": "6bf89335-29a9-4434-9518-f2140b5e889d"
      },
      "execution_count": 8,
      "outputs": [
        {
          "output_type": "stream",
          "name": "stdout",
          "text": [
            "1\n",
            "0\n"
          ]
        }
      ]
    },
    {
      "cell_type": "code",
      "source": [
        "time = input()\n",
        "if time[-2:] == \"00\":\n",
        "    print(\"정각입니다.\")\n",
        "else:\n",
        "    print(\"정각이 아닙니다.\")"
      ],
      "metadata": {
        "colab": {
          "base_uri": "https://localhost:8080/"
        },
        "id": "nVg66YB73AEP",
        "outputId": "2a636b0c-3464-4779-d62a-0f21d1c87d5d"
      },
      "execution_count": 12,
      "outputs": [
        {
          "output_type": "stream",
          "name": "stdout",
          "text": [
            "21:11\n",
            "정각이 아닙니다.\n"
          ]
        }
      ]
    },
    {
      "cell_type": "code",
      "source": [
        "fruit = ['사과','포도','파인애플']\n",
        "a = input('과일 :')\n",
        "if a in fruit:\n",
        "    print('정답')\n",
        "else:\n",
        "    print('오답')"
      ],
      "metadata": {
        "colab": {
          "base_uri": "https://localhost:8080/"
        },
        "id": "iNrx-t565H-V",
        "outputId": "9b0873ab-13d4-4c8d-e29b-f7a6669f9be3"
      },
      "execution_count": 14,
      "outputs": [
        {
          "output_type": "stream",
          "name": "stdout",
          "text": [
            "과일 :사과\n",
            "정답\n"
          ]
        }
      ]
    },
    {
      "cell_type": "code",
      "source": [
        "warn_investment_list = [\"Microsoft\", \"Google\", \"Naver\", \"Kakao\", \"SAMSUNG\", \"LG\"]\n",
        "a = input(\"투자 종목 : \")\n",
        "if a.capitalize() in warn_investment_list:\n",
        "    print('투자 경고 종목입니다.')\n",
        "else:\n",
        "    print('투자 경고 종목이 아닙니다.')"
      ],
      "metadata": {
        "colab": {
          "base_uri": "https://localhost:8080/"
        },
        "id": "WbXC07yc_vTS",
        "outputId": "f22dc2cb-a037-4bab-ef8e-505ab05bf714"
      },
      "execution_count": 15,
      "outputs": [
        {
          "output_type": "stream",
          "name": "stdout",
          "text": [
            "투자 종목 : microsoft\n",
            "투자 경고 종목입니다.\n"
          ]
        }
      ]
    },
    {
      "cell_type": "code",
      "source": [
        "fruit = {\"봄\" : \"딸기\", \"여름\" : \"토마토\", \"가을\" : \"사과\"}\n",
        "a = input('제철 과일 : ')\n",
        "if a in fruit.keys():\n",
        "    print('정답')\n",
        "else:\n",
        "    print('오답')\n",
        "    "
      ],
      "metadata": {
        "colab": {
          "base_uri": "https://localhost:8080/"
        },
        "id": "EclOCl1f7hi6",
        "outputId": "b0d93639-09e4-498c-aae4-4dde967f9cc0"
      },
      "execution_count": 16,
      "outputs": [
        {
          "output_type": "stream",
          "name": "stdout",
          "text": [
            "제철 과일 : 겨울\n",
            "오답\n"
          ]
        }
      ]
    },
    {
      "cell_type": "code",
      "source": [
        "fruit = {\"봄\" : \"딸기\", \"여름\" : \"토마토\", \"가을\" : \"사과\"}\n",
        "a = input('좋아하는 과일 : ')\n",
        "if a in fruit.values():\n",
        "    print('정답')\n",
        "else:\n",
        "    print('오답')"
      ],
      "metadata": {
        "colab": {
          "base_uri": "https://localhost:8080/"
        },
        "id": "N8NFnKRgCW2C",
        "outputId": "e1c43504-2dbe-439f-e4f4-4770b574ee06"
      },
      "execution_count": 17,
      "outputs": [
        {
          "output_type": "stream",
          "name": "stdout",
          "text": [
            "좋아하는 과일 : 토마토\n",
            "정답\n"
          ]
        }
      ]
    },
    {
      "cell_type": "code",
      "source": [
        "alphabet = input('문자 입력 : ')\n",
        "if alphabet.isupper():\n",
        "    print(alphabet.lower())\n",
        "elif alphabet.islower():\n",
        "    print(alphabet.upper())\n",
        "else:\n",
        "    print('Not found')"
      ],
      "metadata": {
        "colab": {
          "base_uri": "https://localhost:8080/"
        },
        "id": "uZ3Cmkr8Cqz4",
        "outputId": "b2878d70-82c5-4887-a88c-4a708ec31ccc"
      },
      "execution_count": 18,
      "outputs": [
        {
          "output_type": "stream",
          "name": "stdout",
          "text": [
            "문자 입력 : lower\n",
            "LOWER\n"
          ]
        }
      ]
    },
    {
      "cell_type": "code",
      "source": [
        "score = input('score : ')\n",
        "if 81 <= int(score) <= 100:\n",
        "    print(\"A\")\n",
        "elif 61 <= int(score) <= 80:\n",
        "    print(\"B\")\n",
        "elif 41 <= int(score) <= 60:\n",
        "    print(\"C\")\n",
        "elif 21 <= int(score) <=40:\n",
        "    print(\"D\")\n",
        "elif 0 <= int(score) <=20:\n",
        "    print(\"E\")"
      ],
      "metadata": {
        "colab": {
          "base_uri": "https://localhost:8080/"
        },
        "id": "csemzk1DFOVK",
        "outputId": "2f993858-3e66-44ae-eecd-6ebaaedf9732"
      },
      "execution_count": 19,
      "outputs": [
        {
          "output_type": "stream",
          "name": "stdout",
          "text": [
            "score : 75\n",
            "B\n"
          ]
        }
      ]
    },
    {
      "cell_type": "code",
      "source": [
        "cm = {\"달러\":1167,\"엔\":1.096,\"유로\":1268,\"위안\":171}\n",
        "a = input('환율 입력 : ').split(' ')\n",
        "if a[1] == '달러':\n",
        "    print(int(a[0])*cm[\"달러\"], end = '원')\n",
        "elif a[1] == '엔':\n",
        "    print(int(a[0])*cm[\"엔\"], end = '원')\n",
        "elif a[1] == '유로':\n",
        "    print(int(a[0])*cm[\"유로\"], end = '원')\n",
        "elif a[1] == '위안':\n",
        "    print(int(a[0])*cm[\"위안\"], end = '원')"
      ],
      "metadata": {
        "colab": {
          "base_uri": "https://localhost:8080/"
        },
        "id": "wYrn0602HbAk",
        "outputId": "3475b70e-263b-4409-d3ed-8e29404d1ed1"
      },
      "execution_count": 24,
      "outputs": [
        {
          "output_type": "stream",
          "name": "stdout",
          "text": [
            "환율 입력 : 100 달러\n",
            "116700원"
          ]
        }
      ]
    },
    {
      "cell_type": "code",
      "source": [
        "num1 = int(input('num1 : '))\n",
        "num2 = int(input('num2 : '))\n",
        "num3 = int(input('num3 : '))\n",
        "if num1 > num2 and num1 > num3:\n",
        "    print(num1)\n",
        "elif num2 > num1 and num2 > num3:\n",
        "    print(num2)\n",
        "else:\n",
        "    print(num3)"
      ],
      "metadata": {
        "colab": {
          "base_uri": "https://localhost:8080/"
        },
        "id": "Uwb2m4kaNc_M",
        "outputId": "33ed2f50-7955-4ca9-e4ed-b7b30ab21bfc"
      },
      "execution_count": 25,
      "outputs": [
        {
          "output_type": "stream",
          "name": "stdout",
          "text": [
            "num1 : 1\n",
            "num2 : 2\n",
            "num3 : 3\n",
            "3\n"
          ]
        }
      ]
    },
    {
      "cell_type": "code",
      "source": [
        "pn = input(\"Phone number : \").split('-')\n",
        "if pn[0] == '011':\n",
        "    print(\"당신은 SKT 사용자입니다.\")\n",
        "elif pn[0] == \"016\":\n",
        "    print(\"당신은 KT 사용자입니다.\")\n",
        "elif pn[0] == \"019\":\n",
        "    print(\"당신은 LGU+ 사용자입니다.\")\n",
        "elif pn [0] == \"019\":\n",
        "    print(\"알수 없음.\")\n",
        "else:\n",
        "    print(\"없는 번호 입니다.\")"
      ],
      "metadata": {
        "colab": {
          "base_uri": "https://localhost:8080/"
        },
        "id": "HgCA30hlZlb7",
        "outputId": "a5bd4e62-a691-4186-84e6-7c827c9cd5bb"
      },
      "execution_count": 27,
      "outputs": [
        {
          "output_type": "stream",
          "name": "stdout",
          "text": [
            "Phone number : psn = input('우편번호 : ') psn = psn[:3] if psn in ['010','011','012']:     print('강북구') elif psn in ['013','014','015']:     print('도봉구') elif psn in ['016','017','018','019']:     print('노원구') else:     print('none')\n",
            "없는 번호 입니다.\n"
          ]
        }
      ]
    },
    {
      "cell_type": "code",
      "source": [
        "psn = input('우편번호 : ')\n",
        "psn = psn[:3]\n",
        "if psn in ['010','011','012']:\n",
        "    print('강북구')\n",
        "elif psn in ['013','014','015']:\n",
        "    print('도봉구')\n",
        "elif psn in ['016','017','018','019']:\n",
        "    print('노원구')\n",
        "else:\n",
        "    print('none')"
      ],
      "metadata": {
        "colab": {
          "base_uri": "https://localhost:8080/"
        },
        "id": "pS74kBPvfYGQ",
        "outputId": "6b68b34a-4667-499b-e687-579664b10b93"
      },
      "execution_count": 28,
      "outputs": [
        {
          "output_type": "stream",
          "name": "stdout",
          "text": [
            "우편번호 : 01111\n",
            "강북구\n"
          ]
        }
      ]
    },
    {
      "cell_type": "code",
      "source": [
        ""
      ],
      "metadata": {
        "id": "_moYm78XfZvj"
      },
      "execution_count": null,
      "outputs": []
    }
  ]
}