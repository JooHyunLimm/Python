{
  "nbformat": 4,
  "nbformat_minor": 0,
  "metadata": {
    "colab": {
      "name": "연습문제5.ipynb",
      "provenance": [],
      "authorship_tag": "ABX9TyNGZzIrbRtvvjYoio5xoktX",
      "include_colab_link": true
    },
    "kernelspec": {
      "name": "python3",
      "display_name": "Python 3"
    },
    "language_info": {
      "name": "python"
    }
  },
  "cells": [
    {
      "cell_type": "markdown",
      "metadata": {
        "id": "view-in-github",
        "colab_type": "text"
      },
      "source": [
        "<a href=\"https://colab.research.google.com/github/JooHyunLimm/Python/blob/main/%EC%97%B0%EC%8A%B5%EB%AC%B8%EC%A0%9C5.ipynb\" target=\"_parent\"><img src=\"https://colab.research.google.com/assets/colab-badge.svg\" alt=\"Open In Colab\"/></a>"
      ]
    },
    {
      "cell_type": "code",
      "execution_count": 3,
      "metadata": {
        "colab": {
          "base_uri": "https://localhost:8080/"
        },
        "id": "rrYCuFIT23j_",
        "outputId": "a5dc7dd4-2258-4d5c-80ca-dc40cbacf5ac"
      },
      "outputs": [
        {
          "output_type": "stream",
          "name": "stdout",
          "text": [
            "4.5\n",
            "2 4 6 8 10 [100, 130, 100, 100]\n",
            "1234567\n",
            "8901134\n",
            "9851245\n",
            "6\n"
          ]
        }
      ],
      "source": [
        "def print_score(n):\n",
        "    sum = 0\n",
        "    for i in n:\n",
        "        sum += i\n",
        "    print(sum/len(n))\n",
        "print_score([1,2,3,4,5,6,7,8])\n",
        "\n",
        "def print_even(n):\n",
        "    for i in n:\n",
        "        if i % 2 == 0:\n",
        "            print(i,end = ' ')\n",
        "print_even([1,2,3,4,5,6,7,8,9,10])\n",
        "\n",
        "def print_keys(n):\n",
        "    print(n.keys())\n",
        "\n",
        "dict = {1:2,3:4,5:6}\n",
        "my_dict = {\"10/26\" : [100, 130, 100, 100],\n",
        "           \"10/27\" : [10, 12, 10, 11]}\n",
        "def print_value_by_key(n,k):\n",
        "    print(n[k])\n",
        "print_value_by_key(my_dict,\"10/26\")\n",
        "\n",
        "def print_5xn(line,n):\n",
        "    chunk_num = int(len(line) // n)\n",
        "    for x in range(chunk_num):\n",
        "        print(line[x * n: x * n + n])\n",
        "    print(line[-int(len(line) % n):])\n",
        "print_5xn(\"1234567890113498512456\",7)"
      ]
    },
    {
      "cell_type": "code",
      "source": [
        "from re import A\n",
        "import webbrowser\n",
        "\n",
        "a = input(\"브라우저 입력 :\")\n",
        "\n",
        "def make_url(string) :\n",
        "    return \"https://www.\" + string + \".com\"\n",
        "def make_url1(string) :\n",
        "    return \"https://www.\" + string + \".net\"\n",
        "def make_url2(string) :\n",
        "    return \"https://www.\" + string + \".org\"\n",
        "\n",
        "url = make_url(a)\n",
        "url1 = make_url1(a)\n",
        "url2 = make_url2(a)\n",
        "\n",
        "if webbrowser.open(url) == False:\n",
        "    pass\n",
        "elif webbrowser.open(url1) == False:\n",
        "    pass\n",
        "elif webbrowser.open(url2) == False:\n",
        "    pass\n",
        "else:\n",
        "    print(\"none\")"
      ],
      "metadata": {
        "colab": {
          "base_uri": "https://localhost:8080/"
        },
        "id": "VBSr1XTZ4awK",
        "outputId": "396abf5d-8ddf-4f0b-8e56-3280d1dfc59a"
      },
      "execution_count": 11,
      "outputs": [
        {
          "output_type": "execute_result",
          "data": {
            "text/plain": [
              "False"
            ]
          },
          "metadata": {},
          "execution_count": 11
        }
      ]
    },
    {
      "cell_type": "code",
      "source": [
        "def pirckup_even(a):\n",
        "    b = []\n",
        "    for i in a:\n",
        "        if i % 3 ==0:\n",
        "            b.append(i)\n",
        "    return b\n",
        "pirckup_even([1,2,3,4,5,6,7,8,9,11,12])\n",
        "\n",
        "def make_list(a):\n",
        "    b =[]\n",
        "    for i in a:\n",
        "        b.append(i)\n",
        "    return b\n",
        "make_list(\"ad;fn;qoinwv\")\n",
        "\n",
        "def convert_int(a):\n",
        "    b = int(a.replace(\",\",\"\"))\n",
        "    return b\n",
        "a = convert_int(\"1,234,567,890\")\n",
        "print(a)"
      ],
      "metadata": {
        "colab": {
          "base_uri": "https://localhost:8080/"
        },
        "id": "Xniyyr61qyvZ",
        "outputId": "a0774ae9-e380-487a-81d8-a41086816af7"
      },
      "execution_count": 1,
      "outputs": [
        {
          "output_type": "execute_result",
          "data": {
            "text/plain": [
              "['a', 'd', ';', 'f', 'n', ';', 'q', 'o', 'i', 'n', 'w', 'v']"
            ]
          },
          "metadata": {},
          "execution_count": 1
        }
      ]
    },
    {
      "cell_type": "code",
      "source": [
        "import datetime\n",
        "from re import A\n",
        "d = datetime.datetime.now()\n",
        "print (d.year,'년 ', d.month,'월 ', d.day,' 일',d.hour,'시 ',d.minute,'분 ',d.second,'초',d.strftime(\"%A\"))"
      ],
      "metadata": {
        "colab": {
          "base_uri": "https://localhost:8080/"
        },
        "id": "OYIF8EPPAemT",
        "outputId": "d1c16d0b-12fc-479c-bc64-2f7df2cd56db"
      },
      "execution_count": 4,
      "outputs": [
        {
          "output_type": "stream",
          "name": "stdout",
          "text": [
            "228\n"
          ]
        }
      ]
    },
    {
      "cell_type": "code",
      "source": [
        "import time\n",
        "import datetime\n",
        "from re import A\n",
        "now = datetime.datetime.now()\n",
        "\n",
        "for day in range(5, 0, -1):\n",
        "    delta = datetime.timedelta(minutes= day)\n",
        "    date = now - delta\n",
        "    print(date)\n",
        "print(now.strftime(\"%X\"))\n",
        "\n",
        "day = \"2022-04-20\"\n",
        "ret = datetime.datetime.strptime(day,\"%Y-%m-%d\")\n",
        "print(ret)\n",
        "while True:\n",
        "    now = datetime.datetime.now()\n",
        "    print(now)\n",
        "    time.sleep(1)"
      ],
      "metadata": {
        "colab": {
          "base_uri": "https://localhost:8080/",
          "height": 491
        },
        "id": "B_rImU5Mkwv9",
        "outputId": "828ff676-0ba0-4049-d9f7-07dbe6f1a2ac"
      },
      "execution_count": 1,
      "outputs": [
        {
          "output_type": "stream",
          "name": "stdout",
          "text": [
            "2022-04-22 04:36:53.305224\n",
            "2022-04-22 04:37:53.305224\n",
            "2022-04-22 04:38:53.305224\n",
            "2022-04-22 04:39:53.305224\n",
            "2022-04-22 04:40:53.305224\n",
            "04:41:53\n",
            "2022-04-20 00:00:00\n",
            "2022-04-22 04:41:53.309670\n",
            "2022-04-22 04:41:54.311176\n",
            "2022-04-22 04:41:55.312382\n",
            "2022-04-22 04:41:56.313627\n",
            "2022-04-22 04:41:57.314828\n",
            "2022-04-22 04:41:58.316069\n",
            "2022-04-22 04:41:59.317309\n",
            "2022-04-22 04:42:00.318550\n",
            "2022-04-22 04:42:01.319765\n"
          ]
        },
        {
          "output_type": "error",
          "ename": "KeyboardInterrupt",
          "evalue": "ignored",
          "traceback": [
            "\u001b[0;31m---------------------------------------------------------------------------\u001b[0m",
            "\u001b[0;31mKeyboardInterrupt\u001b[0m                         Traceback (most recent call last)",
            "\u001b[0;32m<ipython-input-1-18139db79b76>\u001b[0m in \u001b[0;36m<module>\u001b[0;34m()\u001b[0m\n\u001b[1;32m     16\u001b[0m     \u001b[0mnow\u001b[0m \u001b[0;34m=\u001b[0m \u001b[0mdatetime\u001b[0m\u001b[0;34m.\u001b[0m\u001b[0mdatetime\u001b[0m\u001b[0;34m.\u001b[0m\u001b[0mnow\u001b[0m\u001b[0;34m(\u001b[0m\u001b[0;34m)\u001b[0m\u001b[0;34m\u001b[0m\u001b[0;34m\u001b[0m\u001b[0m\n\u001b[1;32m     17\u001b[0m     \u001b[0mprint\u001b[0m\u001b[0;34m(\u001b[0m\u001b[0mnow\u001b[0m\u001b[0;34m)\u001b[0m\u001b[0;34m\u001b[0m\u001b[0;34m\u001b[0m\u001b[0m\n\u001b[0;32m---> 18\u001b[0;31m     \u001b[0mtime\u001b[0m\u001b[0;34m.\u001b[0m\u001b[0msleep\u001b[0m\u001b[0;34m(\u001b[0m\u001b[0;36m1\u001b[0m\u001b[0;34m)\u001b[0m\u001b[0;34m\u001b[0m\u001b[0;34m\u001b[0m\u001b[0m\n\u001b[0m",
            "\u001b[0;31mKeyboardInterrupt\u001b[0m: "
          ]
        }
      ]
    },
    {
      "cell_type": "code",
      "source": [
        "class Jss:\n",
        "    def __init__(self):\n",
        "        self.name = input(\"이름 : \")\n",
        "        self.age = input(\"나이 : \")\n",
        "    def show(self):\n",
        "        print(\"나의 이름은 {}, 나이는 {}살입니다.\".format(self.name,self.age))\n",
        "class Jss2(Jss):\n",
        "    def __init__(self):\n",
        "        super().__init__()\n",
        "        self.gender = input(\"성별 : \")\n",
        "    def show(self):\n",
        "        print(\"이름은 {}, 성별은 {}자, 나이 {}세입니다.\".format(self.name,self.gender,self.age))\n",
        "\n",
        "a = Jss2()\n",
        "a.show()"
      ],
      "metadata": {
        "id": "iD8Yt9YBwN66"
      },
      "execution_count": null,
      "outputs": []
    },
    {
      "cell_type": "code",
      "source": [
        "class Human:\n",
        "    def __init__(self, name,gender,age):\n",
        "        self.name = name\n",
        "        self.gender = gender\n",
        "        self.age = age\n",
        "\n",
        "    def who(self):\n",
        "        print(\"이름 : {}, 성별 : {}, 나이 : {}\".format(self.name,self.gender,self.age),end = \" \")\n",
        "\n",
        "    def setinfo(self,name,gender,age):\n",
        "        self.name = name\n",
        "        self.gender = gender\n",
        "        self.age = age\n",
        "\n",
        "class Human1(Human):\n",
        "    def __init__(self,name,gender,age,height):\n",
        "        super().__init__(name,gender,age)\n",
        "        self.height = height\n",
        "    def who(self):\n",
        "        super().who()\n",
        "        print(\", 키 : {}\".format(self.height))\n",
        "    def __del__(self):\n",
        "        print(\"Have a nice day\")\n",
        "\n",
        "Human1.name = input(\"이름 : \")\n",
        "Human1.gender = input(\"성별 : \")\n",
        "Human1.age = input(\"나이 : \")\n",
        "Human1.height = input(\"키 : \")\n",
        "\n",
        "person = Human1(Human1.name, Human1.gender, Human1.age, Human1.height)\n",
        "person.who()"
      ],
      "metadata": {
        "colab": {
          "base_uri": "https://localhost:8080/"
        },
        "id": "LY5xhp-5Ji6B",
        "outputId": "ac694cc5-c26b-4b47-de5a-bd9327268825"
      },
      "execution_count": 2,
      "outputs": [
        {
          "output_type": "stream",
          "name": "stdout",
          "text": [
            "이름 : 임주현\n",
            "성별 : 남자\n",
            "나이 : 21\n",
            "키 : 170\n",
            "이름 : 임주현, 성별 : 남자, 나이 : 21 , 키 : 170\n"
          ]
        }
      ]
    }
  ]
}