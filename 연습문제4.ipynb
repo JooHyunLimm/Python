{
  "nbformat": 4,
  "nbformat_minor": 0,
  "metadata": {
    "colab": {
      "name": "연습문제4.ipynb",
      "provenance": [],
      "authorship_tag": "ABX9TyMsIy9R3mJmCviYHWot3mH0",
      "include_colab_link": true
    },
    "kernelspec": {
      "name": "python3",
      "display_name": "Python 3"
    },
    "language_info": {
      "name": "python"
    }
  },
  "cells": [
    {
      "cell_type": "markdown",
      "metadata": {
        "id": "view-in-github",
        "colab_type": "text"
      },
      "source": [
        "<a href=\"https://colab.research.google.com/github/JooHyunLimm/Python/blob/main/%EC%97%B0%EC%8A%B5%EB%AC%B8%EC%A0%9C4.ipynb\" target=\"_parent\"><img src=\"https://colab.research.google.com/assets/colab-badge.svg\" alt=\"Open In Colab\"/></a>"
      ]
    },
    {
      "cell_type": "code",
      "execution_count": 34,
      "metadata": {
        "colab": {
          "base_uri": "https://localhost:8080/"
        },
        "id": "2JKt5IH9dtGI",
        "outputId": "36fa4aab-55eb-4cc6-c5e5-ce17d3e871d4"
      },
      "outputs": [
        {
          "output_type": "stream",
          "name": "stdout",
          "text": [
            "주민번호 입력 : 010126-3056813\n",
            "유효합니다.\n",
            "남자\n",
            "서울 입니다.\n"
          ]
        }
      ],
      "source": [
        "bn = input('주민번호 입력 : ')\n",
        "bn1 = bn.split('-')\n",
        "date = bn1[1][1:3]\n",
        "date0 = bn1[1][-1]\n",
        "date1 = bn1[1][0]\n",
        "date2 = bn.replace('-','')\n",
        "date3 = 11 -(int(date2[0]) * 2 +\n",
        "        int(date2[1]) * 3 +\n",
        "        int(date2[2]) * 4 +\n",
        "        int(date2[3]) * 5 +\n",
        "        int(date2[4]) * 6 +\n",
        "        int(date2[5]) * 7 +\n",
        "        int(date2[6]) * 8 +\n",
        "        int(date2[7]) * 9 +\n",
        "        int(date2[8]) * 2 +\n",
        "        int(date2[9]) * 3 +\n",
        "        int(date2[10]) * 4 +\n",
        "        int(date2[11]) * 5 ) % 11\n",
        "if str(date3) == date0 :\n",
        "    print('유효합니다.')\n",
        "else:\n",
        "    print('유효하지 않습니다.')\n",
        "\n",
        "\n",
        "if date1 == '1' or date1 == '3':\n",
        "    print('남자')\n",
        "elif date1 == '2' or date1 == '4':\n",
        "    print('여자')\n",
        "else:\n",
        "    print('none')\n",
        "\n",
        "if date in ['00','01','02','03','04','05','06','07','08']:\n",
        "    print(\"서울 입니다.\")\n",
        "elif date in ['09','10','11','12']:\n",
        "    print(\"부산 입니다.\")\n",
        "else:\n",
        "    print('none')"
      ]
    },
    {
      "cell_type": "code",
      "source": [
        "import  requests\n",
        "\n",
        "btc = requests.get(\"https://api.bithumb.com/public/ticker/\").json()['data']\n",
        "변동폭 = float(btc['max_price']) - float(btc['min_price'])\n",
        "시가 = float(btc[\"opening_price\"])\n",
        "최고가 = float(btc[\"max_price\"])\n",
        "if (변동폭 + 시가) > 최고가:\n",
        "  print('상승장')\n",
        "elif (변동폭 + 시가) < 최고가:\n",
        "  print('하락장')"
      ],
      "metadata": {
        "colab": {
          "base_uri": "https://localhost:8080/"
        },
        "id": "6deHc3Cy2tCs",
        "outputId": "6a9f5d47-f027-4fba-8932-642aaae8fe8c"
      },
      "execution_count": 43,
      "outputs": [
        {
          "output_type": "stream",
          "name": "stdout",
          "text": [
            "상승장\n"
          ]
        }
      ]
    },
    {
      "cell_type": "code",
      "source": [
        "list = [100,200,300]\n",
        "list1 = ['김밥',\"라면\",\"튀김\"]\n",
        "for i in list:\n",
        "    print(i + 10)\n",
        "for i in list1:\n",
        "    print(\"오늘의 메뉴 : \",i)\n",
        "list1 = [\"sk하이닉스\",\"삼성전자\",\"lg전자\"]\n",
        "for i in list1:\n",
        "    print(i,i[0],len(i))\n",
        "list = [1,2,3,4]\n",
        "list1 = [2,3,4]\n",
        "for i in list:\n",
        "    print(3*i)\n",
        "for i in list:\n",
        "    if i <= 1 :\n",
        "        pass\n",
        "    else:\n",
        "        print(i)\n",
        "list = [1,2,3,4]\n",
        "list1 = [2,3,4]\n",
        "list2 = [\"가\",\"나\",\"다\",\"라\"]\n",
        "list2.reverse()\n",
        "for i in list2:\n",
        "    print(i)"
      ],
      "metadata": {
        "colab": {
          "base_uri": "https://localhost:8080/"
        },
        "id": "Jv60vs4cPnZc",
        "outputId": "10832e63-0c9d-454f-81cd-6156a9066323"
      },
      "execution_count": 45,
      "outputs": [
        {
          "output_type": "stream",
          "name": "stdout",
          "text": [
            "110\n",
            "210\n",
            "310\n",
            "오늘의 메뉴 :  김밥\n",
            "오늘의 메뉴 :  라면\n",
            "오늘의 메뉴 :  튀김\n",
            "sk하이닉스 s 6\n",
            "삼성전자 삼 4\n",
            "lg전자 l 4\n",
            "3\n",
            "6\n",
            "9\n",
            "12\n",
            "2\n",
            "3\n",
            "4\n"
          ]
        }
      ]
    },
    {
      "cell_type": "code",
      "source": [
        "list = [3,-2,-5,0,44,31,-31,3,100,23,44,33,15]\n",
        "list1 = [\"i\",\"study\",\"python\",\"language\",\"!\",\"god\"]\n",
        "list2 = [\"A\",\"b\",\"C\",\"d\",\"E\",\"f\"]\n",
        "for i in list:\n",
        "    if i == 0 :\n",
        "        pass\n",
        "    elif (i %3) ==0 and (i<20):\n",
        "        print(i)\n",
        "    else:\n",
        "        pass\n",
        "for i in list1:\n",
        "    if (len(i)) > 3:\n",
        "        print(i)\n",
        "    else: pass\n",
        "for i in list2:\n",
        "    if i.isupper():\n",
        "        print(i)\n",
        "    else: pass\n",
        "for i in list2:\n",
        "    if i.islower():\n",
        "        print(i)\n",
        "    else:\n",
        "        pass"
      ],
      "metadata": {
        "colab": {
          "base_uri": "https://localhost:8080/"
        },
        "id": "NVbicXXJPpE-",
        "outputId": "8df53a2c-edb8-4aea-cccc-fb497bcba3a4"
      },
      "execution_count": 46,
      "outputs": [
        {
          "output_type": "stream",
          "name": "stdout",
          "text": [
            "3\n",
            "3\n",
            "15\n",
            "study\n",
            "python\n",
            "language\n",
            "A\n",
            "C\n",
            "E\n",
            "b\n",
            "d\n",
            "f\n"
          ]
        }
      ]
    },
    {
      "cell_type": "code",
      "source": [
        "list = [3,-2,-5,0,44,31,-31,3,100,23,44,33,15]\n",
        "list1 = [\"i\",\"study\",\"python\",\"language\",\"!\",\"god\"]\n",
        "list2 = [\"A\",\"b\",\"C\",\"d\",\"E\",\"f\"]\n",
        "list3 = [\"hello.py\",\"hi.py\",\"ex01.java\",\"ex02.ir\",\"dd.c++\",\"igo.c\"]\n",
        "\n",
        "for i in list1:\n",
        "    print(i.capitalize())\n",
        "for i in list3:\n",
        "    print(i.split('.')[0].capitalize())\n",
        "for i in list3:\n",
        "    if (i.split('.')[1]) == 'py' or (i.split('.')[1]) == 'java':\n",
        "        print(i)\n",
        "    else:\n",
        "        pass"
      ],
      "metadata": {
        "colab": {
          "base_uri": "https://localhost:8080/"
        },
        "id": "p-TPRQ_RcpAa",
        "outputId": "7d1a4f6c-f9ba-4272-ce8e-8880d56eba03"
      },
      "execution_count": 47,
      "outputs": [
        {
          "output_type": "stream",
          "name": "stdout",
          "text": [
            "I\n",
            "Study\n",
            "Python\n",
            "Language\n",
            "!\n",
            "God\n",
            "Hello\n",
            "Hi\n",
            "Ex01\n",
            "Ex02\n",
            "Dd\n",
            "Igo\n",
            "hello.py\n",
            "hi.py\n",
            "ex01.java\n"
          ]
        }
      ]
    },
    {
      "cell_type": "code",
      "source": [
        "price_list = [32100,32150,32200,32250]\n",
        "my_list = [\"가\",\"나\",\"다\",\"라\",\"마\"]\n",
        "my_list1 = [100,200,400,800,1600,3200]\n",
        "low_prices = [100,200,400,800,1000]\n",
        "high_prices = [150,300,430,880,1000]\n",
        "\n",
        "for i in range(len(price_list)):\n",
        "    print(i,price_list[i])\n",
        "\n",
        "for i in range(1,4):\n",
        "    print((90 + 10 * i),price_list[i])\n",
        "\n",
        "for i in range(2, len(my_list)):\n",
        "    print(my_list[i-2], my_list[i-1], my_list[i])\n",
        "\n",
        "for i in range(len(my_list1)-1):\n",
        "    print(my_list1[i+1] - my_list1[i])\n",
        "\n",
        "for i in range(1, len(my_list1)-1):\n",
        "    print((my_list1[i-1]+my_list1[i]+my_list1[i+1])/3)\n",
        "volatility = []\n",
        "for i in range(len(low_prices)):\n",
        "    volatility.append(high_prices[i] - low_prices[i])\n",
        "print(volatility)"
      ],
      "metadata": {
        "colab": {
          "base_uri": "https://localhost:8080/"
        },
        "id": "kqkMQfu2S16r",
        "outputId": "ef15eb8c-227a-4ec3-f10d-6cf01bb0ad74"
      },
      "execution_count": 1,
      "outputs": [
        {
          "output_type": "stream",
          "name": "stdout",
          "text": [
            "0 32100\n",
            "1 32150\n",
            "2 32200\n",
            "3 32250\n",
            "100 32150\n",
            "110 32200\n",
            "120 32250\n",
            "가 나 다\n",
            "나 다 라\n",
            "다 라 마\n",
            "100\n",
            "200\n",
            "400\n",
            "800\n",
            "1600\n",
            "233.33333333333334\n",
            "466.6666666666667\n",
            "933.3333333333334\n",
            "1866.6666666666667\n",
            "[50, 100, 30, 80, 0]\n"
          ]
        }
      ]
    },
    {
      "cell_type": "code",
      "source": [
        "apart = [[101,102],[201,202],[301,302]]\n",
        "stock = {\"시가\":[100,200,300],\"종가\":[80,210,330]}\n",
        "data = [\n",
        "    [ 2000,  3050,  2050,  1980],\n",
        "    [ 7500,  2050,  2050,  1980],\n",
        "    [15450, 15050, 15550, 14900]\n",
        "]\n",
        "\n",
        "for i in apart:\n",
        "    for d in i:\n",
        "        print(d,\"호\")\n",
        "    print(\"-----\")\n",
        "result = []\n",
        "for i in data:\n",
        "    sub =[]\n",
        "    for d in i:\n",
        "        sub.append(d*1.00014)\n",
        "    result.append(sub)\n",
        "print(result)"
      ],
      "metadata": {
        "colab": {
          "base_uri": "https://localhost:8080/"
        },
        "id": "1-dMtGpIlxOv",
        "outputId": "8767f59e-fd47-4124-c271-388fbacbd321"
      },
      "execution_count": 2,
      "outputs": [
        {
          "output_type": "stream",
          "name": "stdout",
          "text": [
            "101 호\n",
            "102 호\n",
            "-----\n",
            "201 호\n",
            "202 호\n",
            "-----\n",
            "301 호\n",
            "302 호\n",
            "-----\n",
            "[[2000.28, 3050.427, 2050.2870000000003, 1980.2772], [7501.05, 2050.2870000000003, 2050.2870000000003, 1980.2772], [15452.163, 15052.107, 15552.177, 14902.086000000001]]\n"
          ]
        }
      ]
    },
    {
      "cell_type": "code",
      "source": [
        "ohlc = [[\"open\", \"high\", \"low\", \"close\"],\n",
        "        [100, 110, 70, 100],\n",
        "        [200, 210, 180, 190],\n",
        "        [300, 310, 300, 310]]\n",
        "sum = 0\n",
        "for i in ohlc[1:]:\n",
        "    sum += (i[3] - i[0])\n",
        "print(sum)"
      ],
      "metadata": {
        "colab": {
          "base_uri": "https://localhost:8080/"
        },
        "id": "D6V67HGiyXTP",
        "outputId": "38f64eb3-000c-4a2c-e5c5-0ea1b9c3db30"
      },
      "execution_count": 4,
      "outputs": [
        {
          "output_type": "stream",
          "name": "stdout",
          "text": [
            "0\n"
          ]
        }
      ]
    },
    {
      "cell_type": "code",
      "source": [
        ""
      ],
      "metadata": {
        "id": "GNemGfo-J1TY"
      },
      "execution_count": null,
      "outputs": []
    }
  ]
}