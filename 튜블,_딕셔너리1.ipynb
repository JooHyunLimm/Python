{
  "nbformat": 4,
  "nbformat_minor": 0,
  "metadata": {
    "colab": {
      "name": "튜블, 딕셔너리1.ipynb",
      "provenance": [],
      "authorship_tag": "ABX9TyM29puFJrci7OEc1LlK6LSI",
      "include_colab_link": true
    },
    "kernelspec": {
      "name": "python3",
      "display_name": "Python 3"
    },
    "language_info": {
      "name": "python"
    }
  },
  "cells": [
    {
      "cell_type": "markdown",
      "metadata": {
        "id": "view-in-github",
        "colab_type": "text"
      },
      "source": [
        "<a href=\"https://colab.research.google.com/github/JooHyunLimm/Python/blob/main/%ED%8A%9C%EB%B8%94%2C_%EB%94%95%EC%85%94%EB%84%88%EB%A6%AC1.ipynb\" target=\"_parent\"><img src=\"https://colab.research.google.com/assets/colab-badge.svg\" alt=\"Open In Colab\"/></a>"
      ]
    },
    {
      "cell_type": "markdown",
      "source": [
        "튜블 자료형\n",
        "(튜플과 리스트의 가장 큰 차이는 값을 변화시킬 수 있는가 여부이다. 즉 리스트의 항목 값은 변화가 가능하고 튜플의 항목 값은 변화가 불가능하다.)"
      ],
      "metadata": {
        "id": "05bUaGXSO2g6"
      }
    },
    {
      "cell_type": "code",
      "source": [
        "t1=1,2,3\n",
        "t1[0]"
      ],
      "metadata": {
        "colab": {
          "base_uri": "https://localhost:8080/"
        },
        "id": "eqNrkqBpO4mt",
        "outputId": "4fbdb843-4ca9-4597-d9c0-9b9619acd086"
      },
      "execution_count": 2,
      "outputs": [
        {
          "output_type": "execute_result",
          "data": {
            "text/plain": [
              "1"
            ]
          },
          "metadata": {},
          "execution_count": 2
        }
      ]
    },
    {
      "cell_type": "code",
      "source": [
        "t1=1,2,3\n",
        "t1[:2]"
      ],
      "metadata": {
        "colab": {
          "base_uri": "https://localhost:8080/"
        },
        "id": "xMZN8KR3O3Ba",
        "outputId": "7cca8508-3257-4af7-fed1-204dcf2ffbd2"
      },
      "execution_count": 3,
      "outputs": [
        {
          "output_type": "execute_result",
          "data": {
            "text/plain": [
              "(1, 2)"
            ]
          },
          "metadata": {},
          "execution_count": 3
        }
      ]
    },
    {
      "cell_type": "code",
      "execution_count": 7,
      "metadata": {
        "colab": {
          "base_uri": "https://localhost:8080/"
        },
        "id": "AwIGMnWXOzbh",
        "outputId": "a0269d85-ae33-40e8-f10c-41064c52085c"
      },
      "outputs": [
        {
          "output_type": "execute_result",
          "data": {
            "text/plain": [
              "(1, 2, 3, 'a', 'b')"
            ]
          },
          "metadata": {},
          "execution_count": 7
        }
      ],
      "source": [
        "t1=1,2,3\n",
        "t2='a','b'\n",
        "t1+t2"
      ]
    },
    {
      "cell_type": "code",
      "source": [
        "t=1,2,3,4,5,5,5\n",
        "len(t)"
      ],
      "metadata": {
        "colab": {
          "base_uri": "https://localhost:8080/"
        },
        "id": "9HGjH3HVYr40",
        "outputId": "1d67ab12-5f38-410f-ce31-1b6076eb207b"
      },
      "execution_count": 10,
      "outputs": [
        {
          "output_type": "execute_result",
          "data": {
            "text/plain": [
              "7"
            ]
          },
          "metadata": {},
          "execution_count": 10
        }
      ]
    },
    {
      "cell_type": "markdown",
      "source": [
        "딕셔너리 자료형"
      ],
      "metadata": {
        "id": "HNrVSrBmZLkV"
      }
    },
    {
      "cell_type": "code",
      "source": [
        "a={'name':'Jhyun','phone':'01086893187','birth':'010126'}\n",
        "del a['name']\n",
        "a"
      ],
      "metadata": {
        "colab": {
          "base_uri": "https://localhost:8080/"
        },
        "id": "J-bfaPY0ZErN",
        "outputId": "90b2e698-cddd-4168-991f-23466432f8b9"
      },
      "execution_count": 18,
      "outputs": [
        {
          "output_type": "execute_result",
          "data": {
            "text/plain": [
              "{'birth': '010126', 'phone': '01086893187'}"
            ]
          },
          "metadata": {},
          "execution_count": 18
        }
      ]
    },
    {
      "cell_type": "code",
      "source": [
        "a={1:'a'}\n",
        "a[2]='b'\n",
        "a['name']='Jhyun'\n",
        "del a[1]\n",
        "a"
      ],
      "metadata": {
        "colab": {
          "base_uri": "https://localhost:8080/"
        },
        "id": "R1Hh2H0qZEzN",
        "outputId": "1b01ba36-c468-4530-d9c5-f1c10d15c68d"
      },
      "execution_count": 19,
      "outputs": [
        {
          "output_type": "execute_result",
          "data": {
            "text/plain": [
              "{2: 'b', 'name': 'Jhyun'}"
            ]
          },
          "metadata": {},
          "execution_count": 19
        }
      ]
    },
    {
      "cell_type": "code",
      "source": [
        "grade={'pey':10,'julliet':99}\n",
        "grade['pey']\n",
        "grade['julliet']\n"
      ],
      "metadata": {
        "colab": {
          "base_uri": "https://localhost:8080/"
        },
        "id": "JjZqmP8QbyQx",
        "outputId": "568f401e-56c0-45b9-f670-86545797453a"
      },
      "execution_count": 24,
      "outputs": [
        {
          "output_type": "execute_result",
          "data": {
            "text/plain": [
              "99"
            ]
          },
          "metadata": {},
          "execution_count": 24
        }
      ]
    },
    {
      "cell_type": "code",
      "source": [
        "grade={10:'pey',99:'julliet'}\n",
        "grade[10]\n",
        "grade[99]\n",
        "print(grade[10],grade[99])"
      ],
      "metadata": {
        "colab": {
          "base_uri": "https://localhost:8080/"
        },
        "id": "PfG8JHLXcOF_",
        "outputId": "0ee968bc-c7c7-4761-815b-5caa3c775e7b"
      },
      "execution_count": 28,
      "outputs": [
        {
          "output_type": "stream",
          "name": "stdout",
          "text": [
            "pey julliet\n"
          ]
        }
      ]
    },
    {
      "cell_type": "code",
      "source": [
        "dic={'name':'Jhyun\\n','phone':'01086893187\\t','birth':'010126'}\n",
        "print(dic['name'],dic['phone'],dic['birth'])"
      ],
      "metadata": {
        "colab": {
          "base_uri": "https://localhost:8080/"
        },
        "id": "6J7UeIlRd8Ke",
        "outputId": "6fe4c8ff-2d59-4eba-b6ab-60fffa8306c2"
      },
      "execution_count": 40,
      "outputs": [
        {
          "output_type": "stream",
          "name": "stdout",
          "text": [
            "Jhyun\n",
            " 01086893187\t 010126\n"
          ]
        }
      ]
    },
    {
      "cell_type": "markdown",
      "source": [
        "딕셔너리 {key:value}, key의 경우 중복, 리스트 불가 value의 경우 중복,리스트 가능"
      ],
      "metadata": {
        "id": "dq_efiqijq18"
      }
    },
    {
      "cell_type": "code",
      "source": [
        "dic={'name':['Jhyun','Jhyun','semin']}\n",
        "dic['name']"
      ],
      "metadata": {
        "colab": {
          "base_uri": "https://localhost:8080/"
        },
        "id": "jAlypZDDe-l8",
        "outputId": "e48ad841-fd01-4170-ecbc-3ef93038096c"
      },
      "execution_count": 44,
      "outputs": [
        {
          "output_type": "execute_result",
          "data": {
            "text/plain": [
              "['Jhyun', 'Jhyun', 'semin']"
            ]
          },
          "metadata": {},
          "execution_count": 44
        }
      ]
    },
    {
      "cell_type": "code",
      "source": [
        "dic={'name':'Jhyun','phone':'01086893187','birth':'010126'}\n",
        "dic.keys()"
      ],
      "metadata": {
        "colab": {
          "base_uri": "https://localhost:8080/"
        },
        "id": "5L_akRQxen0T",
        "outputId": "092ad211-5656-4caf-c4c6-a3d61571441f"
      },
      "execution_count": 46,
      "outputs": [
        {
          "output_type": "execute_result",
          "data": {
            "text/plain": [
              "dict_keys(['name', 'phone', 'birth'])"
            ]
          },
          "metadata": {},
          "execution_count": 46
        }
      ]
    },
    {
      "cell_type": "code",
      "source": [
        "dict={'name':'Jhyun','phone':'01086893187','birth':'010126'}\n",
        "dict.values()"
      ],
      "metadata": {
        "colab": {
          "base_uri": "https://localhost:8080/"
        },
        "id": "6553E1udlESJ",
        "outputId": "52e87b31-116d-4949-b56f-823fe75b7550"
      },
      "execution_count": 104,
      "outputs": [
        {
          "output_type": "execute_result",
          "data": {
            "text/plain": [
              "dict_values(['Jhyun', '01086893187', '010126'])"
            ]
          },
          "metadata": {},
          "execution_count": 104
        }
      ]
    },
    {
      "cell_type": "markdown",
      "source": [
        "dict_keys 객체를 리스트로 변환"
      ],
      "metadata": {
        "id": "_5pfMW4fl9NH"
      }
    },
    {
      "cell_type": "code",
      "source": [
        "for k in dict.keys():\n",
        "    print(k)"
      ],
      "metadata": {
        "colab": {
          "base_uri": "https://localhost:8080/"
        },
        "id": "AOyxccHhl8bx",
        "outputId": "c5d5bcfc-fc9c-4565-ae2a-35a404e6d2b6"
      },
      "execution_count": 66,
      "outputs": [
        {
          "output_type": "stream",
          "name": "stdout",
          "text": [
            "name\n",
            "phone\n",
            "birth\n"
          ]
        }
      ]
    },
    {
      "cell_type": "code",
      "source": [
        "friends=['주현','세민','민서','태민']\n",
        "\n",
        "for fri in friends:\n",
        "    print(fri)"
      ],
      "metadata": {
        "colab": {
          "base_uri": "https://localhost:8080/"
        },
        "id": "wLbNaQafmcQE",
        "outputId": "09fc08bf-e2c9-42a1-ae87-b4a3f8694c78"
      },
      "execution_count": 83,
      "outputs": [
        {
          "output_type": "stream",
          "name": "stdout",
          "text": [
            "주현\n",
            "세민\n",
            "민서\n",
            "태민\n"
          ]
        }
      ]
    },
    {
      "cell_type": "code",
      "source": [
        "import random\n",
        "print(random.choice(friends))"
      ],
      "metadata": {
        "colab": {
          "base_uri": "https://localhost:8080/"
        },
        "id": "bk9LLTkxqliH",
        "outputId": "a6793395-982b-4f2b-fa76-488c02d744e6"
      },
      "execution_count": 90,
      "outputs": [
        {
          "output_type": "stream",
          "name": "stdout",
          "text": [
            "주현\n"
          ]
        }
      ]
    },
    {
      "cell_type": "code",
      "source": [
        "dict.items()"
      ],
      "metadata": {
        "colab": {
          "base_uri": "https://localhost:8080/"
        },
        "id": "n7J7e0tNmKCy",
        "outputId": "019d56e8-830d-4e5a-ba66-ad0cecd20b7a"
      },
      "execution_count": 64,
      "outputs": [
        {
          "output_type": "execute_result",
          "data": {
            "text/plain": [
              "dict_items([('name', 'Jhyun'), ('phone', '01086893187'), ('birth', '010126')])"
            ]
          },
          "metadata": {},
          "execution_count": 64
        }
      ]
    },
    {
      "cell_type": "code",
      "source": [
        "dict.items()"
      ],
      "metadata": {
        "colab": {
          "base_uri": "https://localhost:8080/"
        },
        "id": "G5lI49j9ol2E",
        "outputId": "0d12bf1a-4d14-49d5-e504-440e3f613009"
      },
      "execution_count": 106,
      "outputs": [
        {
          "output_type": "execute_result",
          "data": {
            "text/plain": [
              "dict_items([('name', 'Jhyun'), ('phone', '01086893187'), ('birth', '010126')])"
            ]
          },
          "metadata": {},
          "execution_count": 106
        }
      ]
    },
    {
      "cell_type": "code",
      "source": [
        "dict.clear()"
      ],
      "metadata": {
        "id": "fIIL9Aqdoxqv"
      },
      "execution_count": 101,
      "outputs": []
    },
    {
      "cell_type": "code",
      "source": [
        "dict={'name':'Jhyun','phone':'01086893187','birth':'010126'}\n",
        "for d in dict.values():\n",
        "  print(d)"
      ],
      "metadata": {
        "colab": {
          "base_uri": "https://localhost:8080/"
        },
        "id": "Ag3nw-MUpF73",
        "outputId": "fd96676a-991c-4570-e396-2a06679fa506"
      },
      "execution_count": 82,
      "outputs": [
        {
          "output_type": "stream",
          "name": "stdout",
          "text": [
            "Jhyun\n",
            "01086893187\n",
            "010126\n"
          ]
        }
      ]
    },
    {
      "cell_type": "code",
      "source": [
        "'name' in dict"
      ],
      "metadata": {
        "colab": {
          "base_uri": "https://localhost:8080/"
        },
        "id": "dSXso1QlpNDw",
        "outputId": "b0b9cf8f-000b-4b92-b85e-53fddb2a7df4"
      },
      "execution_count": 91,
      "outputs": [
        {
          "output_type": "execute_result",
          "data": {
            "text/plain": [
              "True"
            ]
          },
          "metadata": {},
          "execution_count": 91
        }
      ]
    },
    {
      "cell_type": "code",
      "source": [
        "'E-mail' in dict"
      ],
      "metadata": {
        "colab": {
          "base_uri": "https://localhost:8080/"
        },
        "id": "5Cb3z3L9sM65",
        "outputId": "ac2e05fd-457a-4f5f-98c2-b289bef28f66"
      },
      "execution_count": 92,
      "outputs": [
        {
          "output_type": "execute_result",
          "data": {
            "text/plain": [
              "False"
            ]
          },
          "metadata": {},
          "execution_count": 92
        }
      ]
    },
    {
      "cell_type": "code",
      "source": [
        "dict.get('birth')"
      ],
      "metadata": {
        "colab": {
          "base_uri": "https://localhost:8080/",
          "height": 36
        },
        "id": "5Fan-rs3sRg4",
        "outputId": "f2a8d7ff-f7fa-447a-ed85-d23a36067494"
      },
      "execution_count": 96,
      "outputs": [
        {
          "output_type": "execute_result",
          "data": {
            "text/plain": [
              "'010126'"
            ],
            "application/vnd.google.colaboratory.intrinsic+json": {
              "type": "string"
            }
          },
          "metadata": {},
          "execution_count": 96
        }
      ]
    },
    {
      "cell_type": "code",
      "source": [
        "dict.get('e-mail','bar')"
      ],
      "metadata": {
        "colab": {
          "base_uri": "https://localhost:8080/",
          "height": 36
        },
        "id": "ga_TT4Nau8FW",
        "outputId": "e4486c64-f8b7-4949-90bc-0996991394fe"
      },
      "execution_count": 109,
      "outputs": [
        {
          "output_type": "execute_result",
          "data": {
            "text/plain": [
              "'bar'"
            ],
            "application/vnd.google.colaboratory.intrinsic+json": {
              "type": "string"
            }
          },
          "metadata": {},
          "execution_count": 109
        }
      ]
    },
    {
      "cell_type": "code",
      "source": [
        ""
      ],
      "metadata": {
        "id": "vx3wVCp7vAPh"
      },
      "execution_count": null,
      "outputs": []
    }
  ]
}