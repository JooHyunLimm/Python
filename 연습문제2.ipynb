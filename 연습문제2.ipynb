{
  "nbformat": 4,
  "nbformat_minor": 0,
  "metadata": {
    "colab": {
      "name": "연습문제2.ipynb",
      "provenance": [],
      "authorship_tag": "ABX9TyPBhfehOGS5Rv4W50Axmy39",
      "include_colab_link": true
    },
    "kernelspec": {
      "name": "python3",
      "display_name": "Python 3"
    },
    "language_info": {
      "name": "python"
    }
  },
  "cells": [
    {
      "cell_type": "markdown",
      "metadata": {
        "id": "view-in-github",
        "colab_type": "text"
      },
      "source": [
        "<a href=\"https://colab.research.google.com/github/JooHyunLimm/Python/blob/main/%EC%97%B0%EC%8A%B5%EB%AC%B8%EC%A0%9C2.ipynb\" target=\"_parent\"><img src=\"https://colab.research.google.com/assets/colab-badge.svg\" alt=\"Open In Colab\"/></a>"
      ]
    },
    {
      "cell_type": "code",
      "source": [
        "def gugu(a):\n",
        "    result = []\n",
        "    result.append(a*1)\n",
        "    result.append(a*2)\n",
        "    result.append(a*3)\n",
        "    result.append(a*4)\n",
        "    result.append(a*5)\n",
        "    result.append(a*6)\n",
        "    result.append(a*7)\n",
        "    result.append(a*8)\n",
        "    result.append(a*9)\n",
        "    return result\n",
        "print(gugu(7))"
      ],
      "metadata": {
        "id": "VUpgNXX4WcIy"
      },
      "execution_count": null,
      "outputs": []
    },
    {
      "cell_type": "code",
      "source": [
        "def gugu(n):\n",
        "    result =[]\n",
        "    i=1\n",
        "    while i <10:\n",
        "        result.append(n*i)\n",
        "        i = i+1\n",
        "    return result\n",
        "print(gugu(2))"
      ],
      "metadata": {
        "id": "ve_8GCSVasFy"
      },
      "execution_count": null,
      "outputs": []
    },
    {
      "cell_type": "code",
      "source": [
        "result = 0\n",
        "for n in range(1,1000):\n",
        "    if n %3 == 0 or n %5 ==0:\n",
        "        result += n\n",
        "print(result)"
      ],
      "metadata": {
        "id": "kcUQtmrQasR_"
      },
      "execution_count": null,
      "outputs": []
    },
    {
      "cell_type": "code",
      "source": [
        "import sys\n",
        "\n",
        "option = sys.argv[1]\n",
        "\n",
        "if option == '-a':\n",
        "    memo = sys.argv[2]\n",
        "    f= open('memo.txt','a')\n",
        "    f.write(memo)\n",
        "    f.write('\\n')\n",
        "    f.close()\n",
        "elif option == '-v':\n",
        "    f=open('momo.txt')\n",
        "    memo = f.read()\n",
        "    print(memo)"
      ],
      "metadata": {
        "id": "Y8m2hftXasVW"
      },
      "execution_count": 4,
      "outputs": []
    },
    {
      "cell_type": "code",
      "source": [
        "def GetTotalPage(a,b):\n",
        "    if a % b == 0:\n",
        "       return a // b\n",
        "    else:\n",
        "        return  a // b +1\n",
        "\n",
        "print(GetTotalPage(10,10))\n",
        "print(GetTotalPage(15,10))\n",
        "print(GetTotalPage(25,10))\n",
        "print(GetTotalPage(30,10))"
      ],
      "metadata": {
        "colab": {
          "base_uri": "https://localhost:8080/"
        },
        "id": "xj4i3MIka9Lt",
        "outputId": "76d29a93-ef8b-46cf-e9d2-ad8d886139d0"
      },
      "execution_count": 5,
      "outputs": [
        {
          "output_type": "stream",
          "name": "stdout",
          "text": [
            "1\n",
            "2\n",
            "3\n",
            "3\n"
          ]
        }
      ]
    },
    {
      "cell_type": "code",
      "source": [
        "f= open('memo.txt','w')\n",
        "for i in range(1,11):\n",
        "    date = '%d번째 줄입니다.'%i\n",
        "    f.write(date)\n",
        "f.close()"
      ],
      "metadata": {
        "id": "exWDR_Wikdac"
      },
      "execution_count": 1,
      "outputs": []
    },
    {
      "cell_type": "code",
      "source": [
        "numbers = [1,2,3,4,5,6,7,8,9,10]\n",
        "a1 = []\n",
        "a1 = [number for number in numbers if number %2 ==1]\n",
        "print(a1)"
      ],
      "metadata": {
        "colab": {
          "base_uri": "https://localhost:8080/"
        },
        "id": "cQMNafRcFPL3",
        "outputId": "2b53c94d-144b-41e1-fdac-0a56c146dff3"
      },
      "execution_count": 10,
      "outputs": [
        {
          "output_type": "stream",
          "name": "stdout",
          "text": [
            "[1, 3, 5, 7, 9]\n"
          ]
        }
      ]
    },
    {
      "cell_type": "code",
      "source": [
        "string = '홀짝홀짝홀짝'\n",
        "a=[]\n",
        "for b in list(string):\n",
        "    if b == '홀':\n",
        "      a +=b\n",
        "print(str(a))"
      ],
      "metadata": {
        "colab": {
          "base_uri": "https://localhost:8080/"
        },
        "id": "qaqfruMgGVsX",
        "outputId": "e7318e99-dc34-493b-d3a9-3342ef526a7d"
      },
      "execution_count": 15,
      "outputs": [
        {
          "output_type": "stream",
          "name": "stdout",
          "text": [
            "['홀', '홀', '홀']\n"
          ]
        }
      ]
    },
    {
      "cell_type": "code",
      "source": [
        "list(string)"
      ],
      "metadata": {
        "colab": {
          "base_uri": "https://localhost:8080/"
        },
        "id": "EHqW-RfUnUPh",
        "outputId": "e633361c-d8f8-41fc-ae15-229bb2b7f443"
      },
      "execution_count": 9,
      "outputs": [
        {
          "output_type": "execute_result",
          "data": {
            "text/plain": [
              "['홀짝홀짝홀짝']"
            ]
          },
          "metadata": {},
          "execution_count": 9
        }
      ]
    },
    {
      "cell_type": "code",
      "source": [
        "string12 = '홀짝홀짝홀짝홀짝홀짝홀짝'\n",
        "print(string12[::2])"
      ],
      "metadata": {
        "colab": {
          "base_uri": "https://localhost:8080/"
        },
        "id": "Un_YFvianWuM",
        "outputId": "bf7851db-b694-4e20-8148-c46bcfe75755"
      },
      "execution_count": 24,
      "outputs": [
        {
          "output_type": "stream",
          "name": "stdout",
          "text": [
            "홀홀홀홀홀홀\n"
          ]
        }
      ]
    },
    {
      "cell_type": "code",
      "source": [
        "for e in range(100):\n",
        "    if e % 2 == 1:\n",
        "        print(e,end = '')\n",
        "    else:\n",
        "        pass"
      ],
      "metadata": {
        "colab": {
          "base_uri": "https://localhost:8080/"
        },
        "id": "c1ItIk8EpN1N",
        "outputId": "de4e9f57-10b9-4060-9ac7-20e7f4804983"
      },
      "execution_count": 15,
      "outputs": [
        {
          "output_type": "stream",
          "name": "stdout",
          "text": [
            "13579111315171921232527293133353739414345474951535557596163656769717375777981838587899193959799"
          ]
        }
      ]
    },
    {
      "cell_type": "code",
      "source": [
        "b= 0\n",
        "for a in range(1,101):\n",
        "    if a % 2 ==0:\n",
        "      b += a\n",
        "    else:\n",
        "      pass\n",
        "print(b)"
      ],
      "metadata": {
        "colab": {
          "base_uri": "https://localhost:8080/"
        },
        "id": "w0BHN-zBnVe5",
        "outputId": "965ef83a-2239-4a93-9bdd-de893a0b70fd"
      },
      "execution_count": 21,
      "outputs": [
        {
          "output_type": "stream",
          "name": "stdout",
          "text": [
            "2550\n"
          ]
        }
      ]
    },
    {
      "cell_type": "code",
      "source": [
        "a = input('더할 숫자를 입력해 주세요:').split()\n",
        "def sum_all(b):\n",
        "    sum = 0\n",
        "    for i in range(len(b)):\n",
        "        sum = sum +int(b[i])\n",
        "    return sum\n",
        "print(sum_all(a))"
      ],
      "metadata": {
        "colab": {
          "base_uri": "https://localhost:8080/"
        },
        "id": "HZ-s_1DbYTz4",
        "outputId": "f73cacf2-6d27-4b7f-de4f-6be7abe09c6d"
      },
      "execution_count": 22,
      "outputs": [
        {
          "output_type": "stream",
          "name": "stdout",
          "text": [
            "더할 숫자를 입력해 주세요:1 3 5\n",
            "9\n"
          ]
        }
      ]
    },
    {
      "cell_type": "code",
      "source": [
        "a=1,3,5,7\n",
        "for i in range(len(a)):\n",
        "    print(int(a[i]),end = '')"
      ],
      "metadata": {
        "colab": {
          "base_uri": "https://localhost:8080/"
        },
        "id": "9lcURINhxcVr",
        "outputId": "4a5e68cb-aa08-420b-e07c-fda9369bd051"
      },
      "execution_count": 24,
      "outputs": [
        {
          "output_type": "stream",
          "name": "stdout",
          "text": [
            "1357"
          ]
        }
      ]
    },
    {
      "cell_type": "code",
      "source": [
        "x = input('입력').split(',')\n",
        "def abc(a):\n",
        "    sum = 0\n",
        "    for i in range(len(a)):\n",
        "        sum = sum + int(a[i])\n",
        "    return sum\n",
        "print(abc(x))"
      ],
      "metadata": {
        "colab": {
          "base_uri": "https://localhost:8080/"
        },
        "id": "2BRKReHvWqzE",
        "outputId": "67016be0-380f-4515-ed11-6695df43441c"
      },
      "execution_count": 29,
      "outputs": [
        {
          "output_type": "stream",
          "name": "stdout",
          "text": [
            "입력1,3,5\n",
            "9\n"
          ]
        }
      ]
    },
    {
      "cell_type": "code",
      "source": [
        "phone_number = \"010-8689-3187\"\n",
        "a= phone_number.replace('-','')\n",
        "print(a,id(a),id(phone_number))\n",
        "import webbrowser\n",
        "webbrowser.open(\"https://google.com\")\n",
        "t1 = 'python'\n",
        "t2 = 'java'\n",
        "name1 = '김민수'\n",
        "age1 = 10\n",
        "name2 = \"이철희\"\n",
        "age2 = 13\n",
        "상장주식수 = \"5,969,782,550\"\n",
        "print('name : %s, age : %d'%(name1,age1),'name : %s, age : %d'%(name2,age2),sep = '\\n')\n",
        "print('이름 : {}, 나이 : {}'.format(name1,age1),'이름 : {}, 나이 : {}'.format(name2,age2),sep = '\\n')\n",
        "a = int(상장주식수.replace(',',''))\n",
        "print(f'이름 : {name1}, 나이 : {age1}\\n이름: {name2} , 나이 : {age2}')\n",
        "print(int(a),type(a))\n",
        "date = \"   samsung   \"\n",
        "date = date.strip(' ')\n",
        "분기 = \"2020/03(E) (IFRS연결)\"\n",
        "print(분기[:7])\n",
        "print(date,len(date))"
      ],
      "metadata": {
        "colab": {
          "base_uri": "https://localhost:8080/"
        },
        "id": "fF1eMwnHWr2A",
        "outputId": "c7a00d6b-3647-419b-95cd-253d3607d566"
      },
      "execution_count": 33,
      "outputs": [
        {
          "output_type": "stream",
          "name": "stdout",
          "text": [
            "01086893187 139656055308720 139656200300784\n",
            "name : 김민수, age : 10\n",
            "name : 이철희, age : 13\n",
            "이름 : 김민수, 나이 : 10\n",
            "이름 : 이철희, 나이 : 13\n",
            "이름 : 김민수, 나이 : 10\n",
            "이름: 이철희 , 나이 : 13\n",
            "5969782550 <class 'int'>\n",
            "2020/03\n",
            "samsung 7\n"
          ]
        }
      ]
    }
  ]
}