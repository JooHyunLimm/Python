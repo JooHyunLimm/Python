{
  "nbformat": 4,
  "nbformat_minor": 0,
  "metadata": {
    "colab": {
      "name": "\b연습문제7.ipynb",
      "provenance": [],
      "authorship_tag": "ABX9TyPpwifhNh2Wg6dt9E2bqJ35",
      "include_colab_link": true
    },
    "kernelspec": {
      "name": "python3",
      "display_name": "Python 3"
    },
    "language_info": {
      "name": "python"
    }
  },
  "cells": [
    {
      "cell_type": "markdown",
      "metadata": {
        "id": "view-in-github",
        "colab_type": "text"
      },
      "source": [
        "<a href=\"https://colab.research.google.com/github/JooHyunLimm/Python/blob/main/%08%EC%97%B0%EC%8A%B5%EB%AC%B8%EC%A0%9C7.ipynb\" target=\"_parent\"><img src=\"https://colab.research.google.com/assets/colab-badge.svg\" alt=\"Open In Colab\"/></a>"
      ]
    },
    {
      "cell_type": "code",
      "execution_count": null,
      "metadata": {
        "colab": {
          "base_uri": "https://localhost:8080/"
        },
        "id": "7sx4jb-tZJrC",
        "outputId": "b257282a-3507-4ef1-9334-85c23dc218a4"
      },
      "outputs": [
        {
          "output_type": "stream",
          "name": "stdout",
          "text": [
            "1\n",
            "1 1\n",
            "0.000%\n"
          ]
        }
      ],
      "source": [
        "cscount = int(input())\n",
        "case = [[int(x) for x in input().split()] for i in range(cscount)]\n",
        "for i in case:\n",
        "    add = sum(i) - i[0]\n",
        "    average = add/len(i[1:])\n",
        "    hi = []\n",
        "    for a in i[1:]:\n",
        "        if a > average:\n",
        "            hi.append(a)\n",
        "    f = (len(hi) / i[0])*100\n",
        "    g = str(format(f, \".3f\"))\n",
        "    print(g + '%')"
      ]
    },
    {
      "cell_type": "code",
      "source": [
        "def selfnum(x):\n",
        "    a = str(x)\n",
        "    b = x\n",
        "    for i in range(len(a)):\n",
        "        b += int(a[i])\n",
        "    return b\n",
        "\n",
        "senum = []\n",
        "for i in range(10001):\n",
        "    senum.append(selfnum(i))\n",
        "    if i not in senum:\n",
        "        print(i)"
      ],
      "metadata": {
        "colab": {
          "base_uri": "https://localhost:8080/",
          "height": 134
        },
        "id": "iTWfZajbsM58",
        "outputId": "da963477-6038-4efe-e07d-b46bdddf3087"
      },
      "execution_count": null,
      "outputs": [
        {
          "output_type": "error",
          "ename": "SyntaxError",
          "evalue": "ignored",
          "traceback": [
            "\u001b[0;36m  File \u001b[0;32m\"<ipython-input-1-047f99a8199c>\"\u001b[0;36m, line \u001b[0;32m12\u001b[0m\n\u001b[0;31m    return i\u001b[0m\n\u001b[0m    ^\u001b[0m\n\u001b[0;31mSyntaxError\u001b[0m\u001b[0;31m:\u001b[0m 'return' outside function\n"
          ]
        }
      ]
    },
    {
      "cell_type": "code",
      "source": [
        "N = int(input())\n",
        "def artseq(n):\n",
        "    ans = 0\n",
        "    for i in range(1,N+1):\n",
        "        a = [int(d) for d in str(i)]\n",
        "        if len(a) == 1 or len(a) == 2:\n",
        "            ans += 1\n",
        "        else:\n",
        "            if int(a[0]) + int(a[2]) == int(a[1]) * 2:\n",
        "                ans += 1\n",
        "    return ans\n",
        "print(artseq(N))"
      ],
      "metadata": {
        "id": "nXV6KW83dsM2"
      },
      "execution_count": null,
      "outputs": []
    },
    {
      "cell_type": "code",
      "source": [
        "a,b,c = map(int,input().split())\n",
        "if c <= b:\n",
        "    print(-1)\n",
        "else:\n",
        "    benefit = c - b\n",
        "    count = a // benefit\n",
        "    print(count + 1)"
      ],
      "metadata": {
        "id": "M_aowtEmduep"
      },
      "execution_count": null,
      "outputs": []
    },
    {
      "cell_type": "code",
      "source": [
        "N = int(input())\n",
        "def factorial_1(N):\n",
        "    if N == 0:\n",
        "        return 1\n",
        "    return N * factorial_1(N - 1)\n",
        "print(factorial_1(N))"
      ],
      "metadata": {
        "id": "LnI5hwPfzEIx"
      },
      "execution_count": null,
      "outputs": []
    },
    {
      "cell_type": "code",
      "source": [
        "import collections\n",
        "\n",
        "def solution(participant,completion):\n",
        "    answer = collections.Counter(participant) - collections.Counter(completion)\n",
        "    return list(answer.keys())[0]\n",
        "\n",
        "print(solution([\"a\",\"b\",\"c\",\"d\"],[\"a\",\"b\",\"d\"]))"
      ],
      "metadata": {
        "id": "0P2NT8ybLvNx"
      },
      "execution_count": null,
      "outputs": []
    },
    {
      "cell_type": "code",
      "source": [
        "def solution(board,moves):\n",
        "    stacklist = []\n",
        "    answer = 0\n",
        "    for i in moves:\n",
        "        for j in range(len(board)):\n",
        "            if board[i-1][-j] != 0:\n",
        "                stacklist.append(board[i][-j])\n",
        "                board[i][-j] = 0\n",
        "\n",
        "                if len(stacklist) > 1:\n",
        "                    if stacklist[-1] == stacklist[-2]:\n",
        "                        del stacklist[-1]\n",
        "                        del stacklist[-2]\n",
        "                        answer += 2\n",
        "                break\n",
        "    return answer"
      ],
      "metadata": {
        "id": "CBY7_UFTChzg"
      },
      "execution_count": null,
      "outputs": []
    },
    {
      "cell_type": "code",
      "source": [
        "import collections\n",
        "\n",
        "def solution(participant,completion):\n",
        "    answer = collections.Counter(participant) - collections.Counter(completion)\n",
        "    return list(answer.keys())[0]\n",
        "\n",
        "print(solution([\"a\",\"b\",\"c\",\"d\"],[\"a\",\"b\",\"d\"]))"
      ],
      "metadata": {
        "id": "eJAePxp1aWLF"
      },
      "execution_count": null,
      "outputs": []
    },
    {
      "cell_type": "code",
      "source": [
        "def solution(absolutes, signs):\n",
        "    answer = 0\n",
        "    for a,b in zip(absolutes,signs):\n",
        "        if b == True:\n",
        "            answer += a\n",
        "        else:\n",
        "            answer -= a\n",
        "    return answer\n",
        "print(solution([4,7,12],[True,False,True]))"
      ],
      "metadata": {
        "colab": {
          "base_uri": "https://localhost:8080/"
        },
        "id": "sy767MNwabZ-",
        "outputId": "a247791f-e8ea-4100-e427-7d35d9eac28a"
      },
      "execution_count": 1,
      "outputs": [
        {
          "output_type": "stream",
          "name": "stdout",
          "text": [
            "9\n"
          ]
        }
      ]
    }
  ]
}