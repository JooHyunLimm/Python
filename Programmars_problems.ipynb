{
  "nbformat": 4,
  "nbformat_minor": 0,
  "metadata": {
    "colab": {
      "name": "Programmars problems.ipynb",
      "provenance": [],
      "authorship_tag": "ABX9TyPVeO8L4cCEsb+vFpvB5Jgr",
      "include_colab_link": true
    },
    "kernelspec": {
      "name": "python3",
      "display_name": "Python 3"
    },
    "language_info": {
      "name": "python"
    }
  },
  "cells": [
    {
      "cell_type": "markdown",
      "metadata": {
        "id": "view-in-github",
        "colab_type": "text"
      },
      "source": [
        "<a href=\"https://colab.research.google.com/github/JooHyunLimm/Python/blob/main/Programmars_problems.ipynb\" target=\"_parent\"><img src=\"https://colab.research.google.com/assets/colab-badge.svg\" alt=\"Open In Colab\"/></a>"
      ]
    },
    {
      "cell_type": "code",
      "source": [
        "def solution(left,right):\n",
        "    answer = 0\n",
        "    for d in range(left,right+1):\n",
        "        cnt = 1\n",
        "        for i in range(2,d+1):\n",
        "            if d % i == 0:\n",
        "                cnt += 1\n",
        "        if cnt % 2 == 0:\n",
        "            answer += d\n",
        "        else:\n",
        "            answer -= d\n",
        "        cnt = 1\n",
        "    return answer\n",
        "\n",
        "def solutions(left,right):\n",
        "    answer = 0\n",
        "    for i in range(left,right+1):\n",
        "        if int(i**0.5) == i**0.5:\n",
        "            answer -= i\n",
        "        else: answer += i\n",
        "    return answer"
      ],
      "metadata": {
        "id": "8Ha1nI68L3ZE"
      },
      "execution_count": null,
      "outputs": []
    },
    {
      "cell_type": "code",
      "source": [
        "def solution(s):\n",
        "    length = []\n",
        "    if len(s) == 1:\n",
        "        return 1\n",
        "    for i in range(1,len(s)//2 + 1):\n",
        "        result = \"\"\n",
        "        count = 1\n",
        "        cut = s[:i]\n",
        "        for d in range(i,len(s)+i,i):\n",
        "            \n",
        "            if cut == s[d:d+i]:\n",
        "                count += 1\n",
        "            else:\n",
        "                if count != 1:\n",
        "                    result = result + str(count)+cut\n",
        "                else:\n",
        "                    result = result + cut\n",
        "                count = 1\n",
        "            cut = s[d:d+i]\n",
        "        length.append(len(result))\n",
        "    return min(length)\n",
        "print(solution(\"aabbaccc\"))\n",
        "print(solution(\"ababcdcdababcdcd\"))"
      ],
      "metadata": {
        "id": "w_KC5JkrhV8G"
      },
      "execution_count": null,
      "outputs": []
    },
    {
      "cell_type": "code",
      "execution_count": null,
      "metadata": {
        "id": "RfWalrvF1cl9"
      },
      "outputs": [],
      "source": [
        "def solution(n,m):\n",
        "    answer = []\n",
        "    for i in range(min(n,m),0,-1):\n",
        "        if n%i == 0 and m%i == 0:\n",
        "            answer.append(i)\n",
        "            break\n",
        "    for i in range(max(n,m),(n*m)+1):\n",
        "        if i%n == 0 and i%m == 0:\n",
        "            answer.append(i)\n",
        "            break\n",
        "    return answer"
      ]
    },
    {
      "cell_type": "code",
      "source": [
        "from collections import deque\n",
        "\n",
        "def soluton(arr):\n",
        "    answer = []\n",
        "    arr1 = deque(arr)\n",
        "    while len(arr1):\n",
        "        x = arr1.popleft()\n",
        "        if len(answer) == 0:\n",
        "            answer.append(x)\n",
        "        elif answer[-1] != x:\n",
        "            answer.append(x)\n",
        "    return answer\n",
        "def solution1(arr1):\n",
        "    answer =[]\n",
        "    for i in arr1:\n",
        "        if answer[-1:] == [i]: continue\n",
        "        answer.append(i)\n",
        "    return answer"
      ],
      "metadata": {
        "id": "xjQTQBK_11r_"
      },
      "execution_count": null,
      "outputs": []
    },
    {
      "cell_type": "code",
      "source": [
        "def solution(n):\n",
        "    return sorted(str(n),reverse = 1)"
      ],
      "metadata": {
        "id": "Tbk-Hi6A11iX"
      },
      "execution_count": null,
      "outputs": []
    },
    {
      "cell_type": "code",
      "source": [
        "def solution(arr,divisor):\n",
        "    return sorted([i for i in arr if i % divisor == 0],reverse = 0) or [-1]\n",
        "print(solution([5,9,7,10],5))\n",
        "print(solution([2,36,1,3],1))\n",
        "print(solution([3,2,6],10))"
      ],
      "metadata": {
        "id": "OBN8y34A1vkm"
      },
      "execution_count": null,
      "outputs": []
    },
    {
      "cell_type": "code",
      "source": [
        "def solution(seoul):\n",
        "    return (\"김서방은 %d에 있다\" % (seoul.index(\"Kim\")))\n",
        "print(solution([\"Jane\",\"Kim\"]))"
      ],
      "metadata": {
        "id": "YXdgEPUEhcDe"
      },
      "execution_count": null,
      "outputs": []
    },
    {
      "cell_type": "code",
      "source": [
        "def solution(sizes):\n",
        "    return max([max(i) for i in sizes]) * max([min(i) for i in sizes])\n",
        "print(solution([[60, 50], [30, 70], [60, 30], [80, 40]]))\n",
        "print(solution([[10, 7], [12, 3], [8, 15], [14, 7], [5, 15]]))"
      ],
      "metadata": {
        "id": "ifTojEEE1vzc"
      },
      "execution_count": null,
      "outputs": []
    }
  ]
}