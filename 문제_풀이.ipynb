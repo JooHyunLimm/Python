{
  "nbformat": 4,
  "nbformat_minor": 0,
  "metadata": {
    "colab": {
      "name": "문제 풀이.ipynb",
      "provenance": [],
      "authorship_tag": "ABX9TyMBEVAprWP1uFmWROdsstSY",
      "include_colab_link": true
    },
    "kernelspec": {
      "name": "python3",
      "display_name": "Python 3"
    },
    "language_info": {
      "name": "python"
    }
  },
  "cells": [
    {
      "cell_type": "markdown",
      "metadata": {
        "id": "view-in-github",
        "colab_type": "text"
      },
      "source": [
        "<a href=\"https://colab.research.google.com/github/JooHyunLimm/Python/blob/main/%EB%AC%B8%EC%A0%9C_%ED%92%80%EC%9D%B4.ipynb\" target=\"_parent\"><img src=\"https://colab.research.google.com/assets/colab-badge.svg\" alt=\"Open In Colab\"/></a>"
      ]
    },
    {
      "cell_type": "code",
      "execution_count": 2,
      "metadata": {
        "colab": {
          "base_uri": "https://localhost:8080/"
        },
        "id": "_7-h6brjJJgL",
        "outputId": "890770e0-0d49-42ba-dd71-eafc86a49edc"
      },
      "outputs": [
        {
          "output_type": "stream",
          "name": "stdout",
          "text": [
            "91.66666666666667\n"
          ]
        }
      ],
      "source": [
        "dict={'국어':90,'영어':95,'수학':90}\n",
        "result=sum(dict.values())\n",
        "print(result/len(dict))"
      ]
    },
    {
      "cell_type": "code",
      "source": [
        "numbers=[14,641,384,5921,1111,22,333]\n",
        "for number in numbers:\n",
        "  if number%2==1:\n",
        "    print(number,'는 홀 수')\n",
        "  else:\n",
        "    print(number,'는 짝수')"
      ],
      "metadata": {
        "colab": {
          "base_uri": "https://localhost:8080/"
        },
        "id": "4t_7lGYKLR9H",
        "outputId": "770bc0a7-b19c-4ad4-fe84-f4b0a01ad695"
      },
      "execution_count": 25,
      "outputs": [
        {
          "output_type": "stream",
          "name": "stdout",
          "text": [
            "14 는 짝수\n",
            "641 는 홀 수\n",
            "384 는 짝수\n",
            "5921 는 홀 수\n",
            "1111 는 홀 수\n",
            "22 는 짝수\n",
            "333 는 홀 수\n"
          ]
        }
      ]
    },
    {
      "cell_type": "code",
      "source": [
        "pin='010126-2055555'\n",
        "(YYYYMMDD)=pin[:6]\n",
        "(num)=pin[7:]\n",
        "print(YYYYMMDD)\n",
        "print(num)"
      ],
      "metadata": {
        "colab": {
          "base_uri": "https://localhost:8080/"
        },
        "id": "keskzD1gOenw",
        "outputId": "44a1d2eb-650c-49c9-becb-36099d7debdd"
      },
      "execution_count": 81,
      "outputs": [
        {
          "output_type": "stream",
          "name": "stdout",
          "text": [
            "010126\n",
            "3055555\n"
          ]
        }
      ]
    },
    {
      "cell_type": "code",
      "source": [
        "if pin[7]==1 or 3:\n",
        "  print('남자')\n",
        "if pin[7]==2 or 4:\n",
        "  print('여자')\n",
        "else:\n",
        "  print('Not yet')\n",
        "print(pin[7])"
      ],
      "metadata": {
        "colab": {
          "base_uri": "https://localhost:8080/"
        },
        "id": "wpYzjoZ-VEl1",
        "outputId": "044bafe6-0c62-4285-a42d-cd4bffd8b9b9"
      },
      "execution_count": 113,
      "outputs": [
        {
          "output_type": "stream",
          "name": "stdout",
          "text": [
            "남자\n",
            "여자\n",
            "3\n"
          ]
        }
      ]
    },
    {
      "cell_type": "code",
      "source": [
        "a='a:b:c'\n",
        "a.replace(':','#')"
      ],
      "metadata": {
        "colab": {
          "base_uri": "https://localhost:8080/",
          "height": 36
        },
        "id": "vBTBQKoRSYME",
        "outputId": "6c35479c-258e-4e40-a593-8367dffaa979"
      },
      "execution_count": 99,
      "outputs": [
        {
          "output_type": "execute_result",
          "data": {
            "text/plain": [
              "'a#b#c'"
            ],
            "application/vnd.google.colaboratory.intrinsic+json": {
              "type": "string"
            }
          },
          "metadata": {},
          "execution_count": 99
        }
      ]
    },
    {
      "cell_type": "code",
      "source": [
        "l1=[1,7,3,6,2,5,4]\n",
        "l1.sort()\n",
        "l1.reverse()\n",
        "l1"
      ],
      "metadata": {
        "colab": {
          "base_uri": "https://localhost:8080/"
        },
        "id": "kFsnXShwSLgW",
        "outputId": "6531aca1-b083-43f0-9795-7196e9f173f6"
      },
      "execution_count": 108,
      "outputs": [
        {
          "output_type": "execute_result",
          "data": {
            "text/plain": [
              "[7, 6, 5, 4, 3, 2, 1]"
            ]
          },
          "metadata": {},
          "execution_count": 108
        }
      ]
    },
    {
      "cell_type": "code",
      "source": [
        "l2=['Life','is','too','short']\n",
        "result=' '.join(l2)\n",
        "print(result)"
      ],
      "metadata": {
        "colab": {
          "base_uri": "https://localhost:8080/"
        },
        "id": "vNVnKQnQeIMZ",
        "outputId": "9dda6916-3c0f-4d73-fd17-84cb7eb060a0"
      },
      "execution_count": 110,
      "outputs": [
        {
          "output_type": "stream",
          "name": "stdout",
          "text": [
            "Life is too short\n"
          ]
        }
      ]
    },
    {
      "cell_type": "code",
      "source": [
        "t1=(1,2,3)\n",
        "print(id(t1))\n",
        "t1=t1+(4,)\n",
        "print(id(t1))"
      ],
      "metadata": {
        "colab": {
          "base_uri": "https://localhost:8080/"
        },
        "id": "qaPhOAfhfTuA",
        "outputId": "68ec238d-7e67-40c8-de4a-9b14f4ef0689"
      },
      "execution_count": 128,
      "outputs": [
        {
          "output_type": "stream",
          "name": "stdout",
          "text": [
            "139747277029120\n",
            "139747131399152\n"
          ]
        }
      ]
    },
    {
      "cell_type": "code",
      "source": [
        "a={'a':90,'b':80,'c':70}\n",
        "result=a.pop('b')\n",
        "print(result)\n",
        "print(a)"
      ],
      "metadata": {
        "colab": {
          "base_uri": "https://localhost:8080/"
        },
        "id": "EAQope_1hRGK",
        "outputId": "0869aabc-9a78-4e7e-b20a-c899f5094ae0"
      },
      "execution_count": 133,
      "outputs": [
        {
          "output_type": "stream",
          "name": "stdout",
          "text": [
            "80\n",
            "{'a': 90, 'c': 70}\n"
          ]
        }
      ]
    },
    {
      "cell_type": "code",
      "source": [
        "l1=[1,1,2,2,3,3,4,4,5,5,6,6,7,7,8,8,9]\n",
        "s1=set(l1)\n",
        "s1"
      ],
      "metadata": {
        "colab": {
          "base_uri": "https://localhost:8080/"
        },
        "id": "uk63qjyKlSJW",
        "outputId": "78ec3b35-ee61-475a-9a8b-b7d8b1fd284b"
      },
      "execution_count": 159,
      "outputs": [
        {
          "output_type": "execute_result",
          "data": {
            "text/plain": [
              "{1, 2, 3, 4, 5, 6, 7, 8, 9}"
            ]
          },
          "metadata": {},
          "execution_count": 159
        }
      ]
    },
    {
      "cell_type": "code",
      "source": [
        "My_list=[5,5,3,3,2,6,6,5,1,4]\n",
        "My_set=set(My_list)\n",
        "My_list=list(My_set)\n",
        "print(My_list)"
      ],
      "metadata": {
        "colab": {
          "base_uri": "https://localhost:8080/"
        },
        "id": "KatprVD_uKBb",
        "outputId": "dfab1a51-6dd3-427e-9269-8ef2bc78c344"
      },
      "execution_count": 1,
      "outputs": [
        {
          "output_type": "stream",
          "name": "stdout",
          "text": [
            "[1, 2, 3, 4, 5, 6]\n"
          ]
        }
      ]
    }
  ]
}