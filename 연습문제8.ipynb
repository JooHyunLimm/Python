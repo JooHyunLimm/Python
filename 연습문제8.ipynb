{
  "nbformat": 4,
  "nbformat_minor": 0,
  "metadata": {
    "colab": {
      "name": "연습문제8.ipynb",
      "provenance": [],
      "authorship_tag": "ABX9TyMgQg8YqeBLR8FjBAYVL+Fz",
      "include_colab_link": true
    },
    "kernelspec": {
      "name": "python3",
      "display_name": "Python 3"
    },
    "language_info": {
      "name": "python"
    }
  },
  "cells": [
    {
      "cell_type": "markdown",
      "metadata": {
        "id": "view-in-github",
        "colab_type": "text"
      },
      "source": [
        "<a href=\"https://colab.research.google.com/github/JooHyunLimm/Python/blob/main/%EC%97%B0%EC%8A%B5%EB%AC%B8%EC%A0%9C8.ipynb\" target=\"_parent\"><img src=\"https://colab.research.google.com/assets/colab-badge.svg\" alt=\"Open In Colab\"/></a>"
      ]
    },
    {
      "cell_type": "code",
      "execution_count": null,
      "metadata": {
        "id": "iMXs_6jgarKN"
      },
      "outputs": [],
      "source": [
        "#정규화식\n",
        "import re\n",
        "\n",
        "def solution(new_id):\n",
        "    answer = new_id\n",
        "    answer= answer.lower()\n",
        "    answer = re.sub(r\"[^\\w|.|-]\",\"\",answer)\n",
        "    answer = re.sub(r\"[.]{1,}\",\".\",answer)\n",
        "    answer = answer.strip(\".\")\n",
        "    if answer == \"\":\n",
        "        answer += \"a\"\n",
        "    if len(answer) > 15:\n",
        "        answer = answer[0:15]\n",
        "        if answer[-1] == \".\":\n",
        "            answer = re.sub(\"[.]$\",\"\",answer)\n",
        "    if len(answer) < 3:\n",
        "        while 1:\n",
        "            answer += answer[-1]\n",
        "            if len(answer) == 3:\n",
        "                break\n",
        "    return answer"
      ]
    },
    {
      "cell_type": "code",
      "source": [
        "def solution(array,commands):\n",
        "    answer = [sorted(array[i[0]-1:i[1]])[i[2]-1] for i in commands]\n",
        "    return answer\n",
        "print(solution([1, 5, 2, 6, 3, 7, 4],[[2, 5, 3], [4, 4, 1], [1, 7, 3]]))"
      ],
      "metadata": {
        "id": "EN4KYWvWahOh"
      },
      "execution_count": null,
      "outputs": []
    },
    {
      "cell_type": "code",
      "source": [
        "def solution(N,stages):\n",
        "    answer = {}\n",
        "    user = len(stages)\n",
        "    for i in range(1,N+1):\n",
        "        if user != 0 :\n",
        "            count = stages.count(i)\n",
        "            answer[i] = count/ user\n",
        "            user -= count\n",
        "        else:\n",
        "            answer[i] = 0\n",
        "    return sorted(answer,key = lambda x: answer[x], reverse = True)\n",
        "print(solution(4,[4,4,4]))"
      ],
      "metadata": {
        "id": "xdiuIKR-ah9a"
      },
      "execution_count": null,
      "outputs": []
    },
    {
      "cell_type": "code",
      "source": [
        "class Solution(object):\n",
        "    def twoSum(self, nums, target):\n",
        "        table = {}\n",
        "\n",
        "        for i, num in enumerate(nums):\n",
        "            complement = target - num\n",
        "            if complement in table:\n",
        "                return [table[complement],i]\n",
        "            else:\n",
        "                table[num] = i\n",
        "f = Solution()\n",
        "print(f.twoSum([3,3],6))"
      ],
      "metadata": {
        "id": "vPnP5p7R6ha8"
      },
      "execution_count": null,
      "outputs": []
    },
    {
      "cell_type": "code",
      "source": [
        "from itertools import repeat, chain\n",
        "\n",
        "def solution(answers):\n",
        "    dic = {k : 0 for k in range(1,4)}\n",
        "    a = list(chain.from_iterable(repeat([1,2,3,4,5],len(answers)//5 +1)))\n",
        "    b = list(chain.from_iterable(repeat([2,1,2,3,2,4,2,5],len(answers)//8 +1)))\n",
        "    c = list(chain.from_iterable(repeat([3,3,1,1,2,2,4,4,5,5],len(answers)//10 +1)))\n",
        "    for i in range(len(answers)):\n",
        "        if answers[i] == a[i]:\n",
        "            dic[1] += 1\n",
        "    for i in range(len(answers)):\n",
        "        if answers[i] == b[i]:\n",
        "            dic[2] += 1\n",
        "    for i in range(len(answers)):\n",
        "        if answers[i] == c[i]:\n",
        "            dic[3] += 1\n",
        "    return [k for k , v in dic.items() if v == max(dic.values())]\n",
        "print(solution([1,2,3,4,5]))\n",
        "print(solution([1,3,2,4,2]))"
      ],
      "metadata": {
        "id": "IApRGP5-6iNM"
      },
      "execution_count": null,
      "outputs": []
    },
    {
      "cell_type": "code",
      "source": [
        "def solution(n,arr1,arr2):\n",
        "    answer = []\n",
        "    for i in range(n):\n",
        "        dd = bin(arr1[i] | arr2[i])\n",
        "        dd = dd[2:].zfill(n)\n",
        "        dd = dd.replace(\"1\",\"#\").replace(\"0\",\" \")\n",
        "        answer.append(dd)\n",
        "    return answer\n",
        "print(solution(5,[9, 20, 28, 18, 11],[30, 1, 21, 17, 28]))"
      ],
      "metadata": {
        "id": "8ppiwlVpuatd"
      },
      "execution_count": null,
      "outputs": []
    },
    {
      "cell_type": "code",
      "source": [
        "def solution(x):\n",
        "    return x % sum([int(i) for i in str(x)]) == 0"
      ],
      "metadata": {
        "id": "Ps3zi_vcy-Rr"
      },
      "execution_count": null,
      "outputs": []
    },
    {
      "cell_type": "code",
      "source": [
        "def solution(dartResult):\n",
        "    stack = []\n",
        "    dartResult = dartResult.replace(\"10\",\"A\")\n",
        "    bouns = {\"S\" : 1, \"D\" : 2 ,\"T\" : 3}\n",
        "    for i in dartResult:\n",
        "        if i.isdigit() or i == \"A\":\n",
        "            stack.append(10 if i == \"A\" else int(i))\n",
        "        elif i in (\"S\",\"D\",\"T\"):\n",
        "            num = stack.pop()\n",
        "            stack.append(num ** bouns[i])\n",
        "        elif i == \"#\":\n",
        "            stack[-1] *= -1\n",
        "        elif i == \"*\":\n",
        "            num = stack.pop()\n",
        "            if len(stack):\n",
        "                stack[-1] *= 2\n",
        "            stack.append(2 * num)\n",
        "    return sum(stack)\n",
        "print(solution(\"1S2D*3T\"))\n",
        "print(solution(\"1D2S#10S\"))"
      ],
      "metadata": {
        "id": "QQSHvMOPzBYW"
      },
      "execution_count": null,
      "outputs": []
    },
    {
      "cell_type": "code",
      "source": [
        "def primenum(n):\n",
        "    for i in range(2,int(n**0.5)+1):\n",
        "        if n % i == 0:\n",
        "            return False\n",
        "    return True\n",
        "def solution(nums):\n",
        "    cnt = 0\n",
        "    from itertools import combinations\n",
        "    sm = [sum(i) for i in list(combinations(nums,3))]\n",
        "    for i in sm:\n",
        "        if primenum(i): cnt +=1\n",
        "    return cnt\n",
        "print(solution([1,2,3,4]))\n",
        "print(solution([1,2,7,6,4]))"
      ],
      "metadata": {
        "id": "mpU1Q6UZ4CUL"
      },
      "execution_count": null,
      "outputs": []
    }
  ]
}