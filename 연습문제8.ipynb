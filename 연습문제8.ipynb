{
  "nbformat": 4,
  "nbformat_minor": 0,
  "metadata": {
    "colab": {
      "name": "연습문제8.ipynb",
      "provenance": [],
      "authorship_tag": "ABX9TyMMy+usd6OrrZfPkLV5VMws",
      "include_colab_link": true
    },
    "kernelspec": {
      "name": "python3",
      "display_name": "Python 3"
    },
    "language_info": {
      "name": "python"
    }
  },
  "cells": [
    {
      "cell_type": "markdown",
      "metadata": {
        "id": "view-in-github",
        "colab_type": "text"
      },
      "source": [
        "<a href=\"https://colab.research.google.com/github/JooHyunLimm/Python/blob/main/%EC%97%B0%EC%8A%B5%EB%AC%B8%EC%A0%9C8.ipynb\" target=\"_parent\"><img src=\"https://colab.research.google.com/assets/colab-badge.svg\" alt=\"Open In Colab\"/></a>"
      ]
    },
    {
      "cell_type": "code",
      "execution_count": null,
      "metadata": {
        "id": "EUbNioUkaUHF"
      },
      "outputs": [],
      "source": [
        "def solution(n,m):\n",
        "    answer = []\n",
        "    for i in range(min(n,m),0,-1):\n",
        "        if n%i == 0 and m%i == 0:\n",
        "            answer.append(i)\n",
        "            break\n",
        "    \n",
        "    for i in range(max(n,m),(n*m)+1):\n",
        "        if i%n == 0 and i%m == 0:\n",
        "            answer.append(i)\n",
        "            break\n",
        "    return answer\n",
        "def solution1(n,m):\n",
        "    a,b = max(n,m),min(n,m)\n",
        "    t =1\n",
        "    while t >0:\n",
        "        t = a%b\n",
        "        a,b = b , t\n",
        "    answer = [a,int(n*m/a)]\n",
        "\n",
        "    return answer\n",
        "print(solution(3,12))\n",
        "print(solution(2,5))\n",
        "print(solution1(3,12))\n",
        "print(solution1(2,5))"
      ]
    },
    {
      "cell_type": "code",
      "source": [
        "from collections import deque\n",
        "\n",
        "\n",
        "def solution(arr):\n",
        "    answer = []\n",
        "    arr1 = deque(arr)\n",
        "    while len(arr1):\n",
        "        x = arr1.popleft()\n",
        "        if len(answer) == 0:\n",
        "            answer.append(x)\n",
        "        elif answer[-1] != x:\n",
        "            answer.append(x)\n",
        "    return answer\n",
        "def solution1(arr1):\n",
        "    answer = []\n",
        "    for i in arr1:\n",
        "        if answer[-1:] == [i]: continue\n",
        "        answer.append(i)\n",
        "    return answer"
      ],
      "metadata": {
        "id": "rPonZqrQhxJO"
      },
      "execution_count": null,
      "outputs": []
    },
    {
      "cell_type": "code",
      "source": [
        "def solution(n):\n",
        "    return sorted(str(n),reverse = 1)\n",
        "print(solution(6435126))\n",
        "\n",
        "from collections import deque\n",
        "def solution(arr):\n",
        "    answer = []\n",
        "    arr1 = deque(arr)\n",
        "    while len(arr1):\n",
        "        x = arr1.popleft()\n",
        "        if len(answer) == 0:\n",
        "            answer.append(x)\n",
        "        elif answer[-1] != x:\n",
        "            answer.append(x)\n",
        "    return answer\n",
        "def solution1(arr1):\n",
        "    answer = []\n",
        "    for i in arr1:\n",
        "        if answer[-1:] == [i]: continue\n",
        "        answer.append(i)\n",
        "    return answer\n",
        "print(solution([1,1,3,3,0,1,1]))\n",
        "print(solution([4,4,4,3,3]))\n",
        "print(solution1([1,1,3,3,0,1,1]))\n",
        "print(solution1([4,4,4,3,3]))"
      ],
      "metadata": {
        "id": "u5NGNtk4h9gX"
      },
      "execution_count": null,
      "outputs": []
    },
    {
      "cell_type": "code",
      "source": [
        "def solution(sizes):\n",
        "    return max([max(i) for i in sizes]) * max([min(i) for i in sizes])\n",
        "print(solution([[60, 50], [30, 70], [60, 30], [80, 40]]))\n",
        "def solution(arr,divisor):\n",
        "    return sorted([i for i in arr if i % divisor == 0],reverse = 0) or [-1]\n",
        "print(solution([5,9,7,10],5))\n",
        "def solution(seoul):\n",
        "    return (\"김서방은 %d에 있다\" % (seoul.index(\"Kim\")))\n",
        "print(solution([\"Jane\",\"Kim\"]))"
      ],
      "metadata": {
        "id": "zEJZZzRc1EQ7"
      },
      "execution_count": null,
      "outputs": []
    },
    {
      "cell_type": "code",
      "source": [
        ""
      ],
      "metadata": {
        "id": "DdsUZ9cX1Nwe"
      },
      "execution_count": null,
      "outputs": []
    }
  ]
}