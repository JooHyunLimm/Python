{
  "nbformat": 4,
  "nbformat_minor": 0,
  "metadata": {
    "colab": {
      "name": "redme2.ipynb",
      "provenance": [],
      "collapsed_sections": [],
      "authorship_tag": "ABX9TyNGUmd8L/ryLHo+JnxX9FJf",
      "include_colab_link": true
    },
    "kernelspec": {
      "name": "python3",
      "display_name": "Python 3"
    },
    "language_info": {
      "name": "python"
    }
  },
  "cells": [
    {
      "cell_type": "markdown",
      "metadata": {
        "id": "view-in-github",
        "colab_type": "text"
      },
      "source": [
        "<a href=\"https://colab.research.google.com/github/JooHyunLimm/Python/blob/main/redme2.ipynb\" target=\"_parent\"><img src=\"https://colab.research.google.com/assets/colab-badge.svg\" alt=\"Open In Colab\"/></a>"
      ]
    },
    {
      "cell_type": "code",
      "source": [
        "문자열 포매팅"
      ],
      "metadata": {
        "id": "Md5PHuvOwmcM"
      },
      "execution_count": null,
      "outputs": []
    },
    {
      "cell_type": "markdown",
      "source": [
        ""
      ],
      "metadata": {
        "id": "rzECZcMqwmOv"
      }
    },
    {
      "cell_type": "code",
      "execution_count": 11,
      "metadata": {
        "colab": {
          "base_uri": "https://localhost:8080/",
          "height": 36
        },
        "id": "KULmrETzwX8Y",
        "outputId": "dce8f59a-5eae-4118-f704-28382af77a29"
      },
      "outputs": [
        {
          "output_type": "execute_result",
          "data": {
            "text/plain": [
              "'I ate 3 apples'"
            ],
            "application/vnd.google.colaboratory.intrinsic+json": {
              "type": "string"
            }
          },
          "metadata": {},
          "execution_count": 11
        }
      ],
      "source": [
        "number = 3\n",
        "\"I ate %d apples\" %number\n"
      ]
    },
    {
      "cell_type": "code",
      "source": [
        "number = 10\n",
        "day = \"three\"\n",
        "\"I ate %s apple. so I was sick for %s days\" %(number,day)"
      ],
      "metadata": {
        "colab": {
          "base_uri": "https://localhost:8080/",
          "height": 36
        },
        "id": "DsvE3xYKwzj7",
        "outputId": "0937e7af-3207-4219-95c2-c3685bb701ad"
      },
      "execution_count": 15,
      "outputs": [
        {
          "output_type": "execute_result",
          "data": {
            "text/plain": [
              "'I ate 10 apple. so I was sick for three days'"
            ],
            "application/vnd.google.colaboratory.intrinsic+json": {
              "type": "string"
            }
          },
          "metadata": {},
          "execution_count": 15
        }
      ]
    },
    {
      "cell_type": "markdown",
      "source": [
        "%s코드인 경우 어떤 상태값도 변환 가능"
      ],
      "metadata": {
        "id": "a1FIdtknyx8o"
      }
    },
    {
      "cell_type": "code",
      "source": [
        "a=\"I have %s apples\\n\" %3\n",
        "b=\"rate is %s\" %3.234\n",
        "print(a,b)"
      ],
      "metadata": {
        "colab": {
          "base_uri": "https://localhost:8080/"
        },
        "id": "A1NIm9Oay6le",
        "outputId": "85abb255-f732-4214-b59a-229205ba15e1"
      },
      "execution_count": 19,
      "outputs": [
        {
          "output_type": "stream",
          "name": "stdout",
          "text": [
            "I have 3 apples\n",
            " rate is 3.234\n"
          ]
        }
      ]
    },
    {
      "cell_type": "code",
      "source": [
        "\"Error is %d%%\" %98\n",
        "\"Error is %f%%\" %5.375\n",
        "\"Error is %s%%\" %\"Zero\""
      ],
      "metadata": {
        "colab": {
          "base_uri": "https://localhost:8080/",
          "height": 36
        },
        "id": "3vxcGhDm1hlM",
        "outputId": "cc77038f-caaa-4fef-d7d9-5002d735c4c8"
      },
      "execution_count": 24,
      "outputs": [
        {
          "output_type": "execute_result",
          "data": {
            "text/plain": [
              "'Error is Zero%'"
            ],
            "application/vnd.google.colaboratory.intrinsic+json": {
              "type": "string"
            }
          },
          "metadata": {},
          "execution_count": 24
        }
      ]
    },
    {
      "cell_type": "code",
      "source": [
        "a=\"%-5s good\" %\"okay\"\n",
        "b=\"%10s\" %\"Hello\"\n",
        "c=\"%0.4f\" %3.1459297\n",
        "d=\"%15.4f\"%3.1459297\n",
        "print(a,b,c,d)"
      ],
      "metadata": {
        "colab": {
          "base_uri": "https://localhost:8080/"
        },
        "id": "DoLkcl5O2VGN",
        "outputId": "45a377ab-dc2e-4690-8a0c-ebaac176e716"
      },
      "execution_count": 34,
      "outputs": [
        {
          "output_type": "stream",
          "name": "stdout",
          "text": [
            "okay  good      Hello 3.1459          3.1459\n"
          ]
        }
      ]
    },
    {
      "cell_type": "markdown",
      "source": [
        "format 함수 사용한 포매팅"
      ],
      "metadata": {
        "id": "tcDWGrkn4KiU"
      }
    },
    {
      "cell_type": "code",
      "source": [
        "a=\"I eat {0} apples\\t\".format(3)\n",
        "b=\"I eat {0} apples\".format(\"five\")\n",
        "print(a,b)"
      ],
      "metadata": {
        "colab": {
          "base_uri": "https://localhost:8080/"
        },
        "id": "KhNNw6Hg3Ett",
        "outputId": "ea11f03a-9054-44a0-eb6c-ac356d3baf5d"
      },
      "execution_count": 41,
      "outputs": [
        {
          "output_type": "stream",
          "name": "stdout",
          "text": [
            "I eat 3 apples\t I eat five apples\n"
          ]
        }
      ]
    },
    {
      "cell_type": "code",
      "source": [
        "'I ate {0} apples.so I was sick for {1} days'.format(10,\"three\")"
      ],
      "metadata": {
        "colab": {
          "base_uri": "https://localhost:8080/",
          "height": 36
        },
        "id": "lsX3y9au6X0v",
        "outputId": "fd1bd309-f4d0-4d05-ad7d-e484b7060e47"
      },
      "execution_count": 42,
      "outputs": [
        {
          "output_type": "execute_result",
          "data": {
            "text/plain": [
              "'I ate 10 apples.so I was sick for three days'"
            ],
            "application/vnd.google.colaboratory.intrinsic+json": {
              "type": "string"
            }
          },
          "metadata": {},
          "execution_count": 42
        }
      ]
    },
    {
      "cell_type": "code",
      "source": [
        "'I ate {0} apples.so I was sick for {1} days'.format(10,\"three\")"
      ],
      "metadata": {
        "colab": {
          "base_uri": "https://localhost:8080/",
          "height": 36
        },
        "id": "XIiO7o8r6yKu",
        "outputId": "f30db048-c2f4-4a92-f69c-2ae32514d00e"
      },
      "execution_count": 43,
      "outputs": [
        {
          "output_type": "execute_result",
          "data": {
            "text/plain": [
              "'I ate 10 apples.so I was sick for three days'"
            ],
            "application/vnd.google.colaboratory.intrinsic+json": {
              "type": "string"
            }
          },
          "metadata": {},
          "execution_count": 43
        }
      ]
    },
    {
      "cell_type": "code",
      "source": [
        "number=10\n",
        "day=\"three\"\n",
        "'I ate {0} apples.so I was sick for {1} days'.format(number,day)"
      ],
      "metadata": {
        "colab": {
          "base_uri": "https://localhost:8080/",
          "height": 36
        },
        "id": "h39jOqki68qT",
        "outputId": "8587ba92-ca50-4c58-91a3-ddd5bee1b072"
      },
      "execution_count": 44,
      "outputs": [
        {
          "output_type": "execute_result",
          "data": {
            "text/plain": [
              "'I ate 10 apples.so I was sick for three days'"
            ],
            "application/vnd.google.colaboratory.intrinsic+json": {
              "type": "string"
            }
          },
          "metadata": {},
          "execution_count": 44
        }
      ]
    },
    {
      "cell_type": "code",
      "source": [
        "'I ate {number} apples.so I was sick for {day} days'.format(number=10,day=3)"
      ],
      "metadata": {
        "colab": {
          "base_uri": "https://localhost:8080/",
          "height": 36
        },
        "id": "qEW_W_sT7Lcb",
        "outputId": "ac75c0f4-6d9f-4aa1-8d8c-9a958d3325e9"
      },
      "execution_count": 45,
      "outputs": [
        {
          "output_type": "execute_result",
          "data": {
            "text/plain": [
              "'I ate 10 apples.so I was sick for 3 days'"
            ],
            "application/vnd.google.colaboratory.intrinsic+json": {
              "type": "string"
            }
          },
          "metadata": {},
          "execution_count": 45
        }
      ]
    }
  ]
}