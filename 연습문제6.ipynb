{
  "nbformat": 4,
  "nbformat_minor": 0,
  "metadata": {
    "colab": {
      "name": "\b연습문제6.ipynb",
      "provenance": [],
      "authorship_tag": "ABX9TyPsGM2lMmuT0VuJWwyoI5vt",
      "include_colab_link": true
    },
    "kernelspec": {
      "name": "python3",
      "display_name": "Python 3"
    },
    "language_info": {
      "name": "python"
    }
  },
  "cells": [
    {
      "cell_type": "markdown",
      "metadata": {
        "id": "view-in-github",
        "colab_type": "text"
      },
      "source": [
        "<a href=\"https://colab.research.google.com/github/JooHyunLimm/Python/blob/main/%08%EC%97%B0%EC%8A%B5%EB%AC%B8%EC%A0%9C6.ipynb\" target=\"_parent\"><img src=\"https://colab.research.google.com/assets/colab-badge.svg\" alt=\"Open In Colab\"/></a>"
      ]
    },
    {
      "cell_type": "code",
      "execution_count": null,
      "metadata": {
        "id": "mN2rTVABNWlq"
      },
      "outputs": [],
      "source": [
        "class Stock:\n",
        "    def __init__(self,name,code,PER,PBR,배당수익률):\n",
        "        self.name = name\n",
        "        self.code = code\n",
        "        self.PER = PER\n",
        "        self.PBR = PBR\n",
        "        self.배당수익률 = 배당수익률\n",
        "    def set_name(self,name):\n",
        "        self.name = name\n",
        "    def set_code(self,code):\n",
        "        self.code = code\n",
        "    def get_name(self):\n",
        "        return self.name\n",
        "    def get_code(self):\n",
        "        return self.code\n",
        "    def set_per(self,PER):\n",
        "        self.PER = PER\n",
        "    def set_pbr(self,PBR):\n",
        "        self.PBR = PBR\n",
        "    def set_dividend(self,배당수익률):\n",
        "        self.배당수익률 = 배당수익률\n",
        "samsung = Stock(\"삼성전자\",\"005930\",15.79,1.33,2.83)\n",
        "hyundae = Stock(\"현대차\", \"005380\", 8.7, 0.35, 4.27)\n",
        "lg = Stock(\"LG전자\", \"066570\", 317.34, 0.69, 1.37)\n",
        "\n",
        "list = []\n",
        "list.append(samsung)\n",
        "list.append(hyundae)\n",
        "list.append(lg)\n",
        "\n",
        "for i in list:\n",
        "    print(i.name,i.code,i.PER)"
      ]
    },
    {
      "cell_type": "code",
      "source": [
        "import random\n",
        "\n",
        "class Account:\n",
        "    account_count = 0\n",
        "    def __init__(self,name,balance):\n",
        "\n",
        "        self.deposit_count = 0\n",
        "        self.depsoit_log = []\n",
        "        self.whitdraw_log = []\n",
        "\n",
        "        self.name = name\n",
        "        self.balance = balance\n",
        "        self.bank = \"SC bank\"\n",
        "        num1 = random.randint(0,999)\n",
        "        num2 = random.randint(0,99)\n",
        "        num3 = random.randint(0,999999)\n",
        "\n",
        "        num1 = str(num1).zfill(3)\n",
        "        num2 = str(num2).zfill(2)\n",
        "        num3 = str(num3).zfill(6)\n",
        "        self.account_number = num1 + \"-\" + num2 + \"-\" + num3\n",
        "\n",
        "        Account.account_count += 1\n",
        "    \n",
        "    @classmethod\n",
        "    def get_account_num(cls):\n",
        "        print(cls.account_count)\n",
        "\n",
        "    def deposit(self,amount):\n",
        "        if amount >= 1:\n",
        "            self.depsoit_log.append(amount)\n",
        "            self.balance += amount\n",
        "\n",
        "            self.deposit_count += 1 \n",
        "            if self.deposit_count %5 == 0 :\n",
        "                self.balance = (self.balance * 1.01)\n",
        "    \n",
        "    def whitdraw(self,amount):\n",
        "        self.whitdraw_log.append(amount)\n",
        "        if self.balance > amount:\n",
        "            self.balance -= amount\n",
        "\n",
        "    def display_info(self):\n",
        "        print(\"은행이름 : \",self.bank)\n",
        "        print(\"예금주 : \",self.name)\n",
        "        print(\"계좌 번호 : \",self.account_number)\n",
        "        print(\"잔고 : \", format(self.balance,\",\"),\"원\")\n",
        "\n",
        "    def deposit_history(self):\n",
        "        for i in self.depsoit_log:\n",
        "            print(format(i,\",\"),\"원 입금 했습니다.\")\n",
        "    def whitdraw_history(self):\n",
        "        for i in self.whitdraw_log:\n",
        "            print(format(i,\",\"),\"원 입금 했습니다.\")\n",
        "\n",
        "List = []\n",
        "\n",
        "Lim = Account(\"임주현\",5000)\n",
        "Kim = Account(\"김민서\",10000)\n",
        "Park = Account(\"박정민\",7000)\n",
        "\n",
        "List.append(Lim)\n",
        "List.append(Kim)\n",
        "List.append(Park)\n",
        "Lim.deposit(1000000)\n",
        "Lim.deposit(5000)\n",
        "Lim.deposit(5000)\n",
        "Kim.deposit(1000000)\n",
        "Lim.deposit_history()\n",
        "\n",
        "for i in List:\n",
        "    if i.balance >= 1e+6:\n",
        "        i.display_info()"
      ],
      "metadata": {
        "id": "ovDpUiBFTt8a"
      },
      "execution_count": 2,
      "outputs": []
    },
    {
      "cell_type": "code",
      "source": [
        "class Car:\n",
        "    def __init__(self,price,wheel):\n",
        "        self.price = price\n",
        "        self.wheel = wheel\n",
        "    def car_information(self):\n",
        "        print(\"가격: \",format(self.price,\",\"))\n",
        "        print(\"바퀴: \",self.wheel)\n",
        "\n",
        "class Bicycle(Car):\n",
        "    def __init__(self,price,wheel,drivetrain):\n",
        "        super().__init__(price,wheel)\n",
        "        self.drivetrain = drivetrain\n",
        "    def car_information(self):\n",
        "        super().car_information()\n",
        "        print(\"구동계: \",self.drivetrain)\n",
        "\n",
        "car = Car(2000,4)\n",
        "bicycle = Bicycle(1000,2,\"simano\")\n",
        "\n",
        "bicycle.car_information()"
      ],
      "metadata": {
        "colab": {
          "base_uri": "https://localhost:8080/"
        },
        "id": "2yO6mNqhlQ5O",
        "outputId": "5c469b1b-6717-46fc-ee66-3a1460a4109a"
      },
      "execution_count": 5,
      "outputs": [
        {
          "output_type": "stream",
          "name": "stdout",
          "text": [
            "가격:  1,000\n",
            "바퀴:  2\n",
            "구동계:  simano\n"
          ]
        }
      ]
    },
    {
      "cell_type": "code",
      "source": [
        "class Parents:\n",
        "      def information(self):\n",
        "          print(\"parents\")\n",
        "class Child(Parents):\n",
        "      def information(self):\n",
        "          print(\"child\")\n",
        "me = Child()"
      ],
      "metadata": {
        "id": "7oBu4apRoubZ"
      },
      "execution_count": 1,
      "outputs": []
    },
    {
      "cell_type": "code",
      "source": [
        "per = [\"10.31\", \"\", \"8.00\"]\n",
        "list = []\n",
        "for i in per:\n",
        "    try:\n",
        "        a = float(i)\n",
        "    except:\n",
        "        a = 0\n",
        "    list.append(a)\n",
        "print(list)"
      ],
      "metadata": {
        "colab": {
          "base_uri": "https://localhost:8080/"
        },
        "id": "SLafUsFUyDBp",
        "outputId": "6268274e-9cf7-47e3-9229-acf423e62325"
      },
      "execution_count": 3,
      "outputs": [
        {
          "output_type": "stream",
          "name": "stdout",
          "text": [
            "[10.31, 0, 8.0]\n"
          ]
        }
      ]
    },
    {
      "cell_type": "code",
      "source": [
        "A = int(input())\n",
        "B = int(input())\n",
        "C = int(input())\n",
        "a = str(A*B*C)\n",
        "for i in range(10):\n",
        "    print(a.count(str(i)))"
      ],
      "metadata": {
        "id": "mp2k9OQjK5ja"
      },
      "execution_count": null,
      "outputs": []
    },
    {
      "cell_type": "code",
      "source": [
        "list = []\n",
        "a = []\n",
        "for i in range(1,11):\n",
        "    list.append(int(input()))\n",
        "for i in list:\n",
        "    a.append(i % 42)\n",
        "print(len(set(a)))"
      ],
      "metadata": {
        "id": "RLEidxcWtw6-"
      },
      "execution_count": null,
      "outputs": []
    },
    {
      "cell_type": "code",
      "source": [
        ""
      ],
      "metadata": {
        "id": "sBQrI4vQtwyE"
      },
      "execution_count": null,
      "outputs": []
    }
  ]
}