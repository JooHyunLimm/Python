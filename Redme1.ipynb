{
  "nbformat": 4,
  "nbformat_minor": 0,
  "metadata": {
    "colab": {
      "name": "Redme1.ipynb",
      "provenance": [],
      "authorship_tag": "ABX9TyMAefjYkp2zQ07leK9N+nkn",
      "include_colab_link": true
    },
    "kernelspec": {
      "name": "python3",
      "display_name": "Python 3"
    },
    "language_info": {
      "name": "python"
    }
  },
  "cells": [
    {
      "cell_type": "markdown",
      "metadata": {
        "id": "view-in-github",
        "colab_type": "text"
      },
      "source": [
        "<a href=\"https://colab.research.google.com/github/JooHyunLimm/Python/blob/main/Redme1.ipynb\" target=\"_parent\"><img src=\"https://colab.research.google.com/assets/colab-badge.svg\" alt=\"Open In Colab\"/></a>"
      ]
    },
    {
      "cell_type": "markdown",
      "source": [
        "문자열 기본"
      ],
      "metadata": {
        "id": "9SUQCMFUomsn"
      }
    },
    {
      "cell_type": "code",
      "execution_count": 12,
      "metadata": {
        "id": "8wDfs3yTY1Vf",
        "colab": {
          "base_uri": "https://localhost:8080/"
        },
        "outputId": "ad767a9c-7c15-4df1-95bc-5de23a81ae7c"
      },
      "outputs": [
        {
          "output_type": "stream",
          "name": "stdout",
          "text": [
            "Life is too short, You need Python\n",
            " Python is fun\n",
            " I'm so hungry\n",
            " I'm so happy\n"
          ]
        }
      ],
      "source": [
        "a = \"Life is too short, You need Python\\n\"\n",
        "b = \"Python is fun\\n\"\n",
        "c = \"I'm so hungry\\n\"\n",
        "d = 'I\\'m so happy'\n",
        "print(a,b,c,d)\n"
      ]
    },
    {
      "cell_type": "markdown",
      "source": [
        "문자열 인덱싱 기법"
      ],
      "metadata": {
        "id": "YobsFJVQkWvl"
      }
    },
    {
      "cell_type": "code",
      "source": [
        "a = \"Life is too shotr, You need Python\"\n",
        "b = a[0] + a[1] + a[2] + a[3]\n",
        "\n",
        "print(a[0],a[12],a[-1],b)\n"
      ],
      "metadata": {
        "colab": {
          "base_uri": "https://localhost:8080/"
        },
        "id": "cvlBCCb_kU6u",
        "outputId": "edaa6f16-50e7-460c-bdd4-0ba1a276f7d0"
      },
      "execution_count": 7,
      "outputs": [
        {
          "output_type": "stream",
          "name": "stdout",
          "text": [
            "L s n Life\n"
          ]
        }
      ]
    },
    {
      "cell_type": "markdown",
      "source": [
        "문자열 슬라이싱 기법\n",
        "ex)a[0:4]일 경우 0<=a <3의 값을 출력한다\n"
      ],
      "metadata": {
        "id": "iQm-v5XLlBsp"
      }
    },
    {
      "cell_type": "code",
      "source": [
        "a = \"Life is too shotr, You need Python\"\n",
        "a[0:4]\n",
        "c = \"20010126sunny\"\n",
        "date = c[:8]\n",
        "weather = c[8:]\n",
        "print(date,weather)"
      ],
      "metadata": {
        "colab": {
          "base_uri": "https://localhost:8080/"
        },
        "id": "JupDZMqSi8-0",
        "outputId": "93440085-3f0a-459d-820f-2088e7f0b390"
      },
      "execution_count": 15,
      "outputs": [
        {
          "output_type": "stream",
          "name": "stdout",
          "text": [
            "20010126 sunny\n"
          ]
        }
      ]
    },
    {
      "cell_type": "code",
      "source": [
        "year = c[:4]\n",
        "day = c[4:8]\n",
        "weather = c[8:]\n",
        "print(year,day,weather)\n",
        " "
      ],
      "metadata": {
        "colab": {
          "base_uri": "https://localhost:8080/"
        },
        "id": "5OnGVqZlm8q5",
        "outputId": "c323bf61-4fcf-4499-c63b-f04a9ed76540"
      },
      "execution_count": 16,
      "outputs": [
        {
          "output_type": "stream",
          "name": "stdout",
          "text": [
            "2001 0126 sunny\n"
          ]
        }
      ]
    },
    {
      "cell_type": "markdown",
      "source": [
        "문자열 문자 수정하기"
      ],
      "metadata": {
        "id": "jhVhMYOSpQ_W"
      }
    },
    {
      "cell_type": "code",
      "source": [
        "a = \"Pithon\"\n",
        "a[:1] + 'y' + a[2:]\n"
      ],
      "metadata": {
        "colab": {
          "base_uri": "https://localhost:8080/",
          "height": 35
        },
        "id": "KoKxoNGIoznW",
        "outputId": "d6fc4eae-77f9-4d66-b7c5-c90d9ecaeb09"
      },
      "execution_count": 17,
      "outputs": [
        {
          "output_type": "execute_result",
          "data": {
            "application/vnd.google.colaboratory.intrinsic+json": {
              "type": "string"
            },
            "text/plain": [
              "'Python'"
            ]
          },
          "metadata": {},
          "execution_count": 17
        }
      ]
    }
  ]
}